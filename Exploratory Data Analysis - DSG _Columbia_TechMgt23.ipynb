{
 "cells": [
  {
   "cell_type": "code",
   "execution_count": 41,
   "metadata": {},
   "outputs": [],
   "source": [
    "# Import the libraries for the EDA -- skimpy to clean, visualize\n",
    "import pandas as pd\n",
    "import matplotlib.pyplot as plt\n",
    "import numpy as np\n",
    "import warnings\n",
    "from rich import print\n",
    "from skimpy import clean_columns"
   ]
  },
  {
   "cell_type": "code",
   "execution_count": 42,
   "metadata": {},
   "outputs": [],
   "source": [
    "# Set max rows displayed for readability\n",
    "pd.set_option(\"display.max_rows\", 10)\n",
    "warnings.filterwarnings('ignore')"
   ]
  },
  {
   "cell_type": "code",
   "execution_count": 43,
   "metadata": {},
   "outputs": [
    {
     "data": {
      "text/html": [
       "<div>\n",
       "<style scoped>\n",
       "    .dataframe tbody tr th:only-of-type {\n",
       "        vertical-align: middle;\n",
       "    }\n",
       "\n",
       "    .dataframe tbody tr th {\n",
       "        vertical-align: top;\n",
       "    }\n",
       "\n",
       "    .dataframe thead th {\n",
       "        text-align: right;\n",
       "    }\n",
       "</style>\n",
       "<table border=\"1\" class=\"dataframe\">\n",
       "  <thead>\n",
       "    <tr style=\"text-align: right;\">\n",
       "      <th></th>\n",
       "      <th>building_id</th>\n",
       "      <th>damage_grade</th>\n",
       "    </tr>\n",
       "  </thead>\n",
       "  <tbody>\n",
       "    <tr>\n",
       "      <th>0</th>\n",
       "      <td>802906</td>\n",
       "      <td>3</td>\n",
       "    </tr>\n",
       "    <tr>\n",
       "      <th>1</th>\n",
       "      <td>28830</td>\n",
       "      <td>2</td>\n",
       "    </tr>\n",
       "    <tr>\n",
       "      <th>2</th>\n",
       "      <td>94947</td>\n",
       "      <td>3</td>\n",
       "    </tr>\n",
       "    <tr>\n",
       "      <th>3</th>\n",
       "      <td>590882</td>\n",
       "      <td>2</td>\n",
       "    </tr>\n",
       "    <tr>\n",
       "      <th>4</th>\n",
       "      <td>201944</td>\n",
       "      <td>3</td>\n",
       "    </tr>\n",
       "  </tbody>\n",
       "</table>\n",
       "</div>"
      ],
      "text/plain": [
       "   building_id  damage_grade\n",
       "0       802906             3\n",
       "1        28830             2\n",
       "2        94947             3\n",
       "3       590882             2\n",
       "4       201944             3"
      ]
     },
     "execution_count": 43,
     "metadata": {},
     "output_type": "execute_result"
    }
   ],
   "source": [
    "# Load initial datasets\n",
    "df_values = pd.read_csv(\n",
    "    \"train_values.csv\",\n",
    ")\n",
    "df_labels = pd.read_csv(\n",
    "    \"train_labels.csv\",\n",
    ")\n",
    "df_values.head()\n",
    "df_labels.head()"
   ]
  },
  {
   "cell_type": "code",
   "execution_count": 44,
   "metadata": {},
   "outputs": [
    {
     "data": {
      "text/html": [
       "<div>\n",
       "<style scoped>\n",
       "    .dataframe tbody tr th:only-of-type {\n",
       "        vertical-align: middle;\n",
       "    }\n",
       "\n",
       "    .dataframe tbody tr th {\n",
       "        vertical-align: top;\n",
       "    }\n",
       "\n",
       "    .dataframe thead th {\n",
       "        text-align: right;\n",
       "    }\n",
       "</style>\n",
       "<table border=\"1\" class=\"dataframe\">\n",
       "  <thead>\n",
       "    <tr style=\"text-align: right;\">\n",
       "      <th></th>\n",
       "      <th>building_id</th>\n",
       "      <th>geo_level_1_id</th>\n",
       "      <th>geo_level_2_id</th>\n",
       "      <th>geo_level_3_id</th>\n",
       "      <th>count_floors_pre_eq</th>\n",
       "      <th>age</th>\n",
       "      <th>area_percentage</th>\n",
       "      <th>height_percentage</th>\n",
       "      <th>land_surface_condition</th>\n",
       "      <th>foundation_type</th>\n",
       "      <th>...</th>\n",
       "      <th>has_secondary_use_hotel</th>\n",
       "      <th>has_secondary_use_rental</th>\n",
       "      <th>has_secondary_use_institution</th>\n",
       "      <th>has_secondary_use_school</th>\n",
       "      <th>has_secondary_use_industry</th>\n",
       "      <th>has_secondary_use_health_post</th>\n",
       "      <th>has_secondary_use_gov_office</th>\n",
       "      <th>has_secondary_use_use_police</th>\n",
       "      <th>has_secondary_use_other</th>\n",
       "      <th>damage_grade</th>\n",
       "    </tr>\n",
       "  </thead>\n",
       "  <tbody>\n",
       "    <tr>\n",
       "      <th>0</th>\n",
       "      <td>802906</td>\n",
       "      <td>6</td>\n",
       "      <td>487</td>\n",
       "      <td>12198</td>\n",
       "      <td>2</td>\n",
       "      <td>30</td>\n",
       "      <td>6</td>\n",
       "      <td>5</td>\n",
       "      <td>t</td>\n",
       "      <td>r</td>\n",
       "      <td>...</td>\n",
       "      <td>0</td>\n",
       "      <td>0</td>\n",
       "      <td>0</td>\n",
       "      <td>0</td>\n",
       "      <td>0</td>\n",
       "      <td>0</td>\n",
       "      <td>0</td>\n",
       "      <td>0</td>\n",
       "      <td>0</td>\n",
       "      <td>3</td>\n",
       "    </tr>\n",
       "    <tr>\n",
       "      <th>1</th>\n",
       "      <td>28830</td>\n",
       "      <td>8</td>\n",
       "      <td>900</td>\n",
       "      <td>2812</td>\n",
       "      <td>2</td>\n",
       "      <td>10</td>\n",
       "      <td>8</td>\n",
       "      <td>7</td>\n",
       "      <td>o</td>\n",
       "      <td>r</td>\n",
       "      <td>...</td>\n",
       "      <td>0</td>\n",
       "      <td>0</td>\n",
       "      <td>0</td>\n",
       "      <td>0</td>\n",
       "      <td>0</td>\n",
       "      <td>0</td>\n",
       "      <td>0</td>\n",
       "      <td>0</td>\n",
       "      <td>0</td>\n",
       "      <td>2</td>\n",
       "    </tr>\n",
       "    <tr>\n",
       "      <th>2</th>\n",
       "      <td>94947</td>\n",
       "      <td>21</td>\n",
       "      <td>363</td>\n",
       "      <td>8973</td>\n",
       "      <td>2</td>\n",
       "      <td>10</td>\n",
       "      <td>5</td>\n",
       "      <td>5</td>\n",
       "      <td>t</td>\n",
       "      <td>r</td>\n",
       "      <td>...</td>\n",
       "      <td>0</td>\n",
       "      <td>0</td>\n",
       "      <td>0</td>\n",
       "      <td>0</td>\n",
       "      <td>0</td>\n",
       "      <td>0</td>\n",
       "      <td>0</td>\n",
       "      <td>0</td>\n",
       "      <td>0</td>\n",
       "      <td>3</td>\n",
       "    </tr>\n",
       "    <tr>\n",
       "      <th>3</th>\n",
       "      <td>590882</td>\n",
       "      <td>22</td>\n",
       "      <td>418</td>\n",
       "      <td>10694</td>\n",
       "      <td>2</td>\n",
       "      <td>10</td>\n",
       "      <td>6</td>\n",
       "      <td>5</td>\n",
       "      <td>t</td>\n",
       "      <td>r</td>\n",
       "      <td>...</td>\n",
       "      <td>0</td>\n",
       "      <td>0</td>\n",
       "      <td>0</td>\n",
       "      <td>0</td>\n",
       "      <td>0</td>\n",
       "      <td>0</td>\n",
       "      <td>0</td>\n",
       "      <td>0</td>\n",
       "      <td>0</td>\n",
       "      <td>2</td>\n",
       "    </tr>\n",
       "    <tr>\n",
       "      <th>4</th>\n",
       "      <td>201944</td>\n",
       "      <td>11</td>\n",
       "      <td>131</td>\n",
       "      <td>1488</td>\n",
       "      <td>3</td>\n",
       "      <td>30</td>\n",
       "      <td>8</td>\n",
       "      <td>9</td>\n",
       "      <td>t</td>\n",
       "      <td>r</td>\n",
       "      <td>...</td>\n",
       "      <td>0</td>\n",
       "      <td>0</td>\n",
       "      <td>0</td>\n",
       "      <td>0</td>\n",
       "      <td>0</td>\n",
       "      <td>0</td>\n",
       "      <td>0</td>\n",
       "      <td>0</td>\n",
       "      <td>0</td>\n",
       "      <td>3</td>\n",
       "    </tr>\n",
       "  </tbody>\n",
       "</table>\n",
       "<p>5 rows × 40 columns</p>\n",
       "</div>"
      ],
      "text/plain": [
       "   building_id  geo_level_1_id  geo_level_2_id  geo_level_3_id  \\\n",
       "0       802906               6             487           12198   \n",
       "1        28830               8             900            2812   \n",
       "2        94947              21             363            8973   \n",
       "3       590882              22             418           10694   \n",
       "4       201944              11             131            1488   \n",
       "\n",
       "   count_floors_pre_eq  age  area_percentage  height_percentage  \\\n",
       "0                    2   30                6                  5   \n",
       "1                    2   10                8                  7   \n",
       "2                    2   10                5                  5   \n",
       "3                    2   10                6                  5   \n",
       "4                    3   30                8                  9   \n",
       "\n",
       "  land_surface_condition foundation_type  ... has_secondary_use_hotel  \\\n",
       "0                      t               r  ...                       0   \n",
       "1                      o               r  ...                       0   \n",
       "2                      t               r  ...                       0   \n",
       "3                      t               r  ...                       0   \n",
       "4                      t               r  ...                       0   \n",
       "\n",
       "  has_secondary_use_rental has_secondary_use_institution  \\\n",
       "0                        0                             0   \n",
       "1                        0                             0   \n",
       "2                        0                             0   \n",
       "3                        0                             0   \n",
       "4                        0                             0   \n",
       "\n",
       "  has_secondary_use_school has_secondary_use_industry  \\\n",
       "0                        0                          0   \n",
       "1                        0                          0   \n",
       "2                        0                          0   \n",
       "3                        0                          0   \n",
       "4                        0                          0   \n",
       "\n",
       "   has_secondary_use_health_post  has_secondary_use_gov_office  \\\n",
       "0                              0                             0   \n",
       "1                              0                             0   \n",
       "2                              0                             0   \n",
       "3                              0                             0   \n",
       "4                              0                             0   \n",
       "\n",
       "   has_secondary_use_use_police  has_secondary_use_other  damage_grade  \n",
       "0                             0                        0             3  \n",
       "1                             0                        0             2  \n",
       "2                             0                        0             3  \n",
       "3                             0                        0             2  \n",
       "4                             0                        0             3  \n",
       "\n",
       "[5 rows x 40 columns]"
      ]
     },
     "execution_count": 44,
     "metadata": {},
     "output_type": "execute_result"
    }
   ],
   "source": [
    "# combine the labels and values dataframes to form a final training dataset\n",
    "training_dataset = pd.merge(df_values, df_labels, on='building_id')\n",
    "training_dataset.head()"
   ]
  },
  {
   "cell_type": "code",
   "execution_count": 56,
   "metadata": {},
   "outputs": [],
   "source": [
    "# removing building_id from model, given it's an identity column and has no statistical significance\n",
    "training_dataset.drop(['building_id'], axis=1, inplace=True)"
   ]
  },
  {
   "cell_type": "code",
   "execution_count": 46,
   "metadata": {},
   "outputs": [
    {
     "name": "stdout",
     "output_type": "stream",
     "text": [
      "<class 'pandas.core.frame.DataFrame'>\n",
      "Int64Index: 260601 entries, 0 to 260600\n",
      "Data columns (total 37 columns):\n",
      " #   Column                                  Non-Null Count   Dtype \n",
      "---  ------                                  --------------   ----- \n",
      " 0   building_id                             260601 non-null  int64 \n",
      " 1   count_floors_pre_eq                     260601 non-null  int64 \n",
      " 2   age                                     260601 non-null  int64 \n",
      " 3   area_percentage                         260601 non-null  int64 \n",
      " 4   height_percentage                       260601 non-null  int64 \n",
      " 5   land_surface_condition                  260601 non-null  object\n",
      " 6   foundation_type                         260601 non-null  object\n",
      " 7   roof_type                               260601 non-null  object\n",
      " 8   ground_floor_type                       260601 non-null  object\n",
      " 9   other_floor_type                        260601 non-null  object\n",
      " 10  position                                260601 non-null  object\n",
      " 11  plan_configuration                      260601 non-null  object\n",
      " 12  has_superstructure_adobe_mud            260601 non-null  int64 \n",
      " 13  has_superstructure_mud_mortar_stone     260601 non-null  int64 \n",
      " 14  has_superstructure_stone_flag           260601 non-null  int64 \n",
      " 15  has_superstructure_cement_mortar_stone  260601 non-null  int64 \n",
      " 16  has_superstructure_mud_mortar_brick     260601 non-null  int64 \n",
      " 17  has_superstructure_cement_mortar_brick  260601 non-null  int64 \n",
      " 18  has_superstructure_timber               260601 non-null  int64 \n",
      " 19  has_superstructure_bamboo               260601 non-null  int64 \n",
      " 20  has_superstructure_rc_non_engineered    260601 non-null  int64 \n",
      " 21  has_superstructure_rc_engineered        260601 non-null  int64 \n",
      " 22  has_superstructure_other                260601 non-null  int64 \n",
      " 23  legal_ownership_status                  260601 non-null  object\n",
      " 24  count_families                          260601 non-null  int64 \n",
      " 25  has_secondary_use                       260601 non-null  int64 \n",
      " 26  has_secondary_use_agriculture           260601 non-null  int64 \n",
      " 27  has_secondary_use_hotel                 260601 non-null  int64 \n",
      " 28  has_secondary_use_rental                260601 non-null  int64 \n",
      " 29  has_secondary_use_institution           260601 non-null  int64 \n",
      " 30  has_secondary_use_school                260601 non-null  int64 \n",
      " 31  has_secondary_use_industry              260601 non-null  int64 \n",
      " 32  has_secondary_use_health_post           260601 non-null  int64 \n",
      " 33  has_secondary_use_gov_office            260601 non-null  int64 \n",
      " 34  has_secondary_use_use_police            260601 non-null  int64 \n",
      " 35  has_secondary_use_other                 260601 non-null  int64 \n",
      " 36  damage_grade                            260601 non-null  int64 \n",
      "dtypes: int64(29), object(8)\n",
      "memory usage: 75.6+ MB\n"
     ]
    }
   ],
   "source": [
    "#checking the metadata, null values and datatypes of each variable\n",
    "training_dataset.info()"
   ]
  },
  {
   "cell_type": "code",
   "execution_count": 47,
   "metadata": {},
   "outputs": [
    {
     "data": {
      "text/html": [
       "<div>\n",
       "<style scoped>\n",
       "    .dataframe tbody tr th:only-of-type {\n",
       "        vertical-align: middle;\n",
       "    }\n",
       "\n",
       "    .dataframe tbody tr th {\n",
       "        vertical-align: top;\n",
       "    }\n",
       "\n",
       "    .dataframe thead th {\n",
       "        text-align: right;\n",
       "    }\n",
       "</style>\n",
       "<table border=\"1\" class=\"dataframe\">\n",
       "  <thead>\n",
       "    <tr style=\"text-align: right;\">\n",
       "      <th></th>\n",
       "      <th>building_id</th>\n",
       "      <th>count_floors_pre_eq</th>\n",
       "      <th>age</th>\n",
       "      <th>area_percentage</th>\n",
       "      <th>height_percentage</th>\n",
       "      <th>land_surface_condition</th>\n",
       "      <th>foundation_type</th>\n",
       "      <th>roof_type</th>\n",
       "      <th>ground_floor_type</th>\n",
       "      <th>other_floor_type</th>\n",
       "      <th>...</th>\n",
       "      <th>has_secondary_use_hotel</th>\n",
       "      <th>has_secondary_use_rental</th>\n",
       "      <th>has_secondary_use_institution</th>\n",
       "      <th>has_secondary_use_school</th>\n",
       "      <th>has_secondary_use_industry</th>\n",
       "      <th>has_secondary_use_health_post</th>\n",
       "      <th>has_secondary_use_gov_office</th>\n",
       "      <th>has_secondary_use_use_police</th>\n",
       "      <th>has_secondary_use_other</th>\n",
       "      <th>damage_grade</th>\n",
       "    </tr>\n",
       "  </thead>\n",
       "  <tbody>\n",
       "    <tr>\n",
       "      <th>0</th>\n",
       "      <td>802906</td>\n",
       "      <td>2</td>\n",
       "      <td>30</td>\n",
       "      <td>6</td>\n",
       "      <td>5</td>\n",
       "      <td>t</td>\n",
       "      <td>r</td>\n",
       "      <td>n</td>\n",
       "      <td>f</td>\n",
       "      <td>q</td>\n",
       "      <td>...</td>\n",
       "      <td>0</td>\n",
       "      <td>0</td>\n",
       "      <td>0</td>\n",
       "      <td>0</td>\n",
       "      <td>0</td>\n",
       "      <td>0</td>\n",
       "      <td>0</td>\n",
       "      <td>0</td>\n",
       "      <td>0</td>\n",
       "      <td>3</td>\n",
       "    </tr>\n",
       "    <tr>\n",
       "      <th>1</th>\n",
       "      <td>28830</td>\n",
       "      <td>2</td>\n",
       "      <td>10</td>\n",
       "      <td>8</td>\n",
       "      <td>7</td>\n",
       "      <td>o</td>\n",
       "      <td>r</td>\n",
       "      <td>n</td>\n",
       "      <td>x</td>\n",
       "      <td>q</td>\n",
       "      <td>...</td>\n",
       "      <td>0</td>\n",
       "      <td>0</td>\n",
       "      <td>0</td>\n",
       "      <td>0</td>\n",
       "      <td>0</td>\n",
       "      <td>0</td>\n",
       "      <td>0</td>\n",
       "      <td>0</td>\n",
       "      <td>0</td>\n",
       "      <td>2</td>\n",
       "    </tr>\n",
       "    <tr>\n",
       "      <th>2</th>\n",
       "      <td>94947</td>\n",
       "      <td>2</td>\n",
       "      <td>10</td>\n",
       "      <td>5</td>\n",
       "      <td>5</td>\n",
       "      <td>t</td>\n",
       "      <td>r</td>\n",
       "      <td>n</td>\n",
       "      <td>f</td>\n",
       "      <td>x</td>\n",
       "      <td>...</td>\n",
       "      <td>0</td>\n",
       "      <td>0</td>\n",
       "      <td>0</td>\n",
       "      <td>0</td>\n",
       "      <td>0</td>\n",
       "      <td>0</td>\n",
       "      <td>0</td>\n",
       "      <td>0</td>\n",
       "      <td>0</td>\n",
       "      <td>3</td>\n",
       "    </tr>\n",
       "    <tr>\n",
       "      <th>3</th>\n",
       "      <td>590882</td>\n",
       "      <td>2</td>\n",
       "      <td>10</td>\n",
       "      <td>6</td>\n",
       "      <td>5</td>\n",
       "      <td>t</td>\n",
       "      <td>r</td>\n",
       "      <td>n</td>\n",
       "      <td>f</td>\n",
       "      <td>x</td>\n",
       "      <td>...</td>\n",
       "      <td>0</td>\n",
       "      <td>0</td>\n",
       "      <td>0</td>\n",
       "      <td>0</td>\n",
       "      <td>0</td>\n",
       "      <td>0</td>\n",
       "      <td>0</td>\n",
       "      <td>0</td>\n",
       "      <td>0</td>\n",
       "      <td>2</td>\n",
       "    </tr>\n",
       "    <tr>\n",
       "      <th>4</th>\n",
       "      <td>201944</td>\n",
       "      <td>3</td>\n",
       "      <td>30</td>\n",
       "      <td>8</td>\n",
       "      <td>9</td>\n",
       "      <td>t</td>\n",
       "      <td>r</td>\n",
       "      <td>n</td>\n",
       "      <td>f</td>\n",
       "      <td>x</td>\n",
       "      <td>...</td>\n",
       "      <td>0</td>\n",
       "      <td>0</td>\n",
       "      <td>0</td>\n",
       "      <td>0</td>\n",
       "      <td>0</td>\n",
       "      <td>0</td>\n",
       "      <td>0</td>\n",
       "      <td>0</td>\n",
       "      <td>0</td>\n",
       "      <td>3</td>\n",
       "    </tr>\n",
       "  </tbody>\n",
       "</table>\n",
       "<p>5 rows × 37 columns</p>\n",
       "</div>"
      ],
      "text/plain": [
       "   building_id  count_floors_pre_eq  age  area_percentage  height_percentage  \\\n",
       "0       802906                    2   30                6                  5   \n",
       "1        28830                    2   10                8                  7   \n",
       "2        94947                    2   10                5                  5   \n",
       "3       590882                    2   10                6                  5   \n",
       "4       201944                    3   30                8                  9   \n",
       "\n",
       "  land_surface_condition foundation_type roof_type ground_floor_type  \\\n",
       "0                      t               r         n                 f   \n",
       "1                      o               r         n                 x   \n",
       "2                      t               r         n                 f   \n",
       "3                      t               r         n                 f   \n",
       "4                      t               r         n                 f   \n",
       "\n",
       "  other_floor_type  ... has_secondary_use_hotel has_secondary_use_rental  \\\n",
       "0                q  ...                       0                        0   \n",
       "1                q  ...                       0                        0   \n",
       "2                x  ...                       0                        0   \n",
       "3                x  ...                       0                        0   \n",
       "4                x  ...                       0                        0   \n",
       "\n",
       "   has_secondary_use_institution  has_secondary_use_school  \\\n",
       "0                              0                         0   \n",
       "1                              0                         0   \n",
       "2                              0                         0   \n",
       "3                              0                         0   \n",
       "4                              0                         0   \n",
       "\n",
       "   has_secondary_use_industry  has_secondary_use_health_post  \\\n",
       "0                           0                              0   \n",
       "1                           0                              0   \n",
       "2                           0                              0   \n",
       "3                           0                              0   \n",
       "4                           0                              0   \n",
       "\n",
       "   has_secondary_use_gov_office  has_secondary_use_use_police  \\\n",
       "0                             0                             0   \n",
       "1                             0                             0   \n",
       "2                             0                             0   \n",
       "3                             0                             0   \n",
       "4                             0                             0   \n",
       "\n",
       "   has_secondary_use_other  damage_grade  \n",
       "0                        0             3  \n",
       "1                        0             2  \n",
       "2                        0             3  \n",
       "3                        0             2  \n",
       "4                        0             3  \n",
       "\n",
       "[5 rows x 37 columns]"
      ]
     },
     "execution_count": 47,
     "metadata": {},
     "output_type": "execute_result"
    }
   ],
   "source": [
    "# converting the object datatypes to relevant categorical datatypes for modeling\n",
    "training_dataset = training_dataset.assign(\n",
    "    land_surface_condition=df[\"land_surface_condition\"].astype(\"category\"),\n",
    "    foundation_type=df[\"foundation_type\"].astype(\"category\"),\n",
    "    roof_type=df[\"roof_type\"].astype(\"category\"),\n",
    "    ground_floor_type=df[\"ground_floor_type\"].astype(\"category\"),\n",
    "    other_floor_type=df[\"other_floor_type\"].astype(\"category\"),\n",
    "    position=df[\"position\"].astype(\"category\"),\n",
    "    plan_configuration=df[\"plan_configuration\"].astype(\"category\"),\n",
    "    legal_ownership_status=df[\"legal_ownership_status\"].astype(\"category\"),\n",
    ")\n",
    "training_dataset.head()"
   ]
  },
  {
   "cell_type": "code",
   "execution_count": 48,
   "metadata": {},
   "outputs": [
    {
     "data": {
      "text/html": [
       "<div>\n",
       "<style scoped>\n",
       "    .dataframe tbody tr th:only-of-type {\n",
       "        vertical-align: middle;\n",
       "    }\n",
       "\n",
       "    .dataframe tbody tr th {\n",
       "        vertical-align: top;\n",
       "    }\n",
       "\n",
       "    .dataframe thead th {\n",
       "        text-align: right;\n",
       "    }\n",
       "</style>\n",
       "<table border=\"1\" class=\"dataframe\">\n",
       "  <thead>\n",
       "    <tr style=\"text-align: right;\">\n",
       "      <th></th>\n",
       "      <th>building_id</th>\n",
       "      <th>count_floors_pre_eq</th>\n",
       "      <th>age</th>\n",
       "      <th>area_percentage</th>\n",
       "      <th>height_percentage</th>\n",
       "      <th>has_superstructure_adobe_mud</th>\n",
       "      <th>has_superstructure_mud_mortar_stone</th>\n",
       "      <th>has_superstructure_stone_flag</th>\n",
       "      <th>has_superstructure_cement_mortar_stone</th>\n",
       "      <th>has_superstructure_mud_mortar_brick</th>\n",
       "      <th>...</th>\n",
       "      <th>has_secondary_use_hotel</th>\n",
       "      <th>has_secondary_use_rental</th>\n",
       "      <th>has_secondary_use_institution</th>\n",
       "      <th>has_secondary_use_school</th>\n",
       "      <th>has_secondary_use_industry</th>\n",
       "      <th>has_secondary_use_health_post</th>\n",
       "      <th>has_secondary_use_gov_office</th>\n",
       "      <th>has_secondary_use_use_police</th>\n",
       "      <th>has_secondary_use_other</th>\n",
       "      <th>damage_grade</th>\n",
       "    </tr>\n",
       "  </thead>\n",
       "  <tbody>\n",
       "    <tr>\n",
       "      <th>count</th>\n",
       "      <td>2.606010e+05</td>\n",
       "      <td>260601.000000</td>\n",
       "      <td>260601.000000</td>\n",
       "      <td>260601.000000</td>\n",
       "      <td>260601.000000</td>\n",
       "      <td>260601.000000</td>\n",
       "      <td>260601.000000</td>\n",
       "      <td>260601.000000</td>\n",
       "      <td>260601.000000</td>\n",
       "      <td>260601.000000</td>\n",
       "      <td>...</td>\n",
       "      <td>260601.000000</td>\n",
       "      <td>260601.000000</td>\n",
       "      <td>260601.000000</td>\n",
       "      <td>260601.000000</td>\n",
       "      <td>260601.000000</td>\n",
       "      <td>260601.000000</td>\n",
       "      <td>260601.000000</td>\n",
       "      <td>260601.000000</td>\n",
       "      <td>260601.000000</td>\n",
       "      <td>260601.000000</td>\n",
       "    </tr>\n",
       "    <tr>\n",
       "      <th>mean</th>\n",
       "      <td>5.256755e+05</td>\n",
       "      <td>2.129723</td>\n",
       "      <td>26.535029</td>\n",
       "      <td>8.018051</td>\n",
       "      <td>5.434365</td>\n",
       "      <td>0.088645</td>\n",
       "      <td>0.761935</td>\n",
       "      <td>0.034332</td>\n",
       "      <td>0.018235</td>\n",
       "      <td>0.068154</td>\n",
       "      <td>...</td>\n",
       "      <td>0.033626</td>\n",
       "      <td>0.008101</td>\n",
       "      <td>0.000940</td>\n",
       "      <td>0.000361</td>\n",
       "      <td>0.001071</td>\n",
       "      <td>0.000188</td>\n",
       "      <td>0.000146</td>\n",
       "      <td>0.000088</td>\n",
       "      <td>0.005119</td>\n",
       "      <td>2.238272</td>\n",
       "    </tr>\n",
       "    <tr>\n",
       "      <th>std</th>\n",
       "      <td>3.045450e+05</td>\n",
       "      <td>0.727665</td>\n",
       "      <td>73.565937</td>\n",
       "      <td>4.392231</td>\n",
       "      <td>1.918418</td>\n",
       "      <td>0.284231</td>\n",
       "      <td>0.425900</td>\n",
       "      <td>0.182081</td>\n",
       "      <td>0.133800</td>\n",
       "      <td>0.252010</td>\n",
       "      <td>...</td>\n",
       "      <td>0.180265</td>\n",
       "      <td>0.089638</td>\n",
       "      <td>0.030647</td>\n",
       "      <td>0.018989</td>\n",
       "      <td>0.032703</td>\n",
       "      <td>0.013711</td>\n",
       "      <td>0.012075</td>\n",
       "      <td>0.009394</td>\n",
       "      <td>0.071364</td>\n",
       "      <td>0.611814</td>\n",
       "    </tr>\n",
       "    <tr>\n",
       "      <th>min</th>\n",
       "      <td>4.000000e+00</td>\n",
       "      <td>1.000000</td>\n",
       "      <td>0.000000</td>\n",
       "      <td>1.000000</td>\n",
       "      <td>2.000000</td>\n",
       "      <td>0.000000</td>\n",
       "      <td>0.000000</td>\n",
       "      <td>0.000000</td>\n",
       "      <td>0.000000</td>\n",
       "      <td>0.000000</td>\n",
       "      <td>...</td>\n",
       "      <td>0.000000</td>\n",
       "      <td>0.000000</td>\n",
       "      <td>0.000000</td>\n",
       "      <td>0.000000</td>\n",
       "      <td>0.000000</td>\n",
       "      <td>0.000000</td>\n",
       "      <td>0.000000</td>\n",
       "      <td>0.000000</td>\n",
       "      <td>0.000000</td>\n",
       "      <td>1.000000</td>\n",
       "    </tr>\n",
       "    <tr>\n",
       "      <th>25%</th>\n",
       "      <td>2.611900e+05</td>\n",
       "      <td>2.000000</td>\n",
       "      <td>10.000000</td>\n",
       "      <td>5.000000</td>\n",
       "      <td>4.000000</td>\n",
       "      <td>0.000000</td>\n",
       "      <td>1.000000</td>\n",
       "      <td>0.000000</td>\n",
       "      <td>0.000000</td>\n",
       "      <td>0.000000</td>\n",
       "      <td>...</td>\n",
       "      <td>0.000000</td>\n",
       "      <td>0.000000</td>\n",
       "      <td>0.000000</td>\n",
       "      <td>0.000000</td>\n",
       "      <td>0.000000</td>\n",
       "      <td>0.000000</td>\n",
       "      <td>0.000000</td>\n",
       "      <td>0.000000</td>\n",
       "      <td>0.000000</td>\n",
       "      <td>2.000000</td>\n",
       "    </tr>\n",
       "    <tr>\n",
       "      <th>50%</th>\n",
       "      <td>5.257570e+05</td>\n",
       "      <td>2.000000</td>\n",
       "      <td>15.000000</td>\n",
       "      <td>7.000000</td>\n",
       "      <td>5.000000</td>\n",
       "      <td>0.000000</td>\n",
       "      <td>1.000000</td>\n",
       "      <td>0.000000</td>\n",
       "      <td>0.000000</td>\n",
       "      <td>0.000000</td>\n",
       "      <td>...</td>\n",
       "      <td>0.000000</td>\n",
       "      <td>0.000000</td>\n",
       "      <td>0.000000</td>\n",
       "      <td>0.000000</td>\n",
       "      <td>0.000000</td>\n",
       "      <td>0.000000</td>\n",
       "      <td>0.000000</td>\n",
       "      <td>0.000000</td>\n",
       "      <td>0.000000</td>\n",
       "      <td>2.000000</td>\n",
       "    </tr>\n",
       "    <tr>\n",
       "      <th>75%</th>\n",
       "      <td>7.897620e+05</td>\n",
       "      <td>2.000000</td>\n",
       "      <td>30.000000</td>\n",
       "      <td>9.000000</td>\n",
       "      <td>6.000000</td>\n",
       "      <td>0.000000</td>\n",
       "      <td>1.000000</td>\n",
       "      <td>0.000000</td>\n",
       "      <td>0.000000</td>\n",
       "      <td>0.000000</td>\n",
       "      <td>...</td>\n",
       "      <td>0.000000</td>\n",
       "      <td>0.000000</td>\n",
       "      <td>0.000000</td>\n",
       "      <td>0.000000</td>\n",
       "      <td>0.000000</td>\n",
       "      <td>0.000000</td>\n",
       "      <td>0.000000</td>\n",
       "      <td>0.000000</td>\n",
       "      <td>0.000000</td>\n",
       "      <td>3.000000</td>\n",
       "    </tr>\n",
       "    <tr>\n",
       "      <th>max</th>\n",
       "      <td>1.052934e+06</td>\n",
       "      <td>9.000000</td>\n",
       "      <td>995.000000</td>\n",
       "      <td>100.000000</td>\n",
       "      <td>32.000000</td>\n",
       "      <td>1.000000</td>\n",
       "      <td>1.000000</td>\n",
       "      <td>1.000000</td>\n",
       "      <td>1.000000</td>\n",
       "      <td>1.000000</td>\n",
       "      <td>...</td>\n",
       "      <td>1.000000</td>\n",
       "      <td>1.000000</td>\n",
       "      <td>1.000000</td>\n",
       "      <td>1.000000</td>\n",
       "      <td>1.000000</td>\n",
       "      <td>1.000000</td>\n",
       "      <td>1.000000</td>\n",
       "      <td>1.000000</td>\n",
       "      <td>1.000000</td>\n",
       "      <td>3.000000</td>\n",
       "    </tr>\n",
       "  </tbody>\n",
       "</table>\n",
       "<p>8 rows × 29 columns</p>\n",
       "</div>"
      ],
      "text/plain": [
       "        building_id  count_floors_pre_eq            age  area_percentage  \\\n",
       "count  2.606010e+05        260601.000000  260601.000000    260601.000000   \n",
       "mean   5.256755e+05             2.129723      26.535029         8.018051   \n",
       "std    3.045450e+05             0.727665      73.565937         4.392231   \n",
       "min    4.000000e+00             1.000000       0.000000         1.000000   \n",
       "25%    2.611900e+05             2.000000      10.000000         5.000000   \n",
       "50%    5.257570e+05             2.000000      15.000000         7.000000   \n",
       "75%    7.897620e+05             2.000000      30.000000         9.000000   \n",
       "max    1.052934e+06             9.000000     995.000000       100.000000   \n",
       "\n",
       "       height_percentage  has_superstructure_adobe_mud  \\\n",
       "count      260601.000000                 260601.000000   \n",
       "mean            5.434365                      0.088645   \n",
       "std             1.918418                      0.284231   \n",
       "min             2.000000                      0.000000   \n",
       "25%             4.000000                      0.000000   \n",
       "50%             5.000000                      0.000000   \n",
       "75%             6.000000                      0.000000   \n",
       "max            32.000000                      1.000000   \n",
       "\n",
       "       has_superstructure_mud_mortar_stone  has_superstructure_stone_flag  \\\n",
       "count                        260601.000000                  260601.000000   \n",
       "mean                              0.761935                       0.034332   \n",
       "std                               0.425900                       0.182081   \n",
       "min                               0.000000                       0.000000   \n",
       "25%                               1.000000                       0.000000   \n",
       "50%                               1.000000                       0.000000   \n",
       "75%                               1.000000                       0.000000   \n",
       "max                               1.000000                       1.000000   \n",
       "\n",
       "       has_superstructure_cement_mortar_stone  \\\n",
       "count                           260601.000000   \n",
       "mean                                 0.018235   \n",
       "std                                  0.133800   \n",
       "min                                  0.000000   \n",
       "25%                                  0.000000   \n",
       "50%                                  0.000000   \n",
       "75%                                  0.000000   \n",
       "max                                  1.000000   \n",
       "\n",
       "       has_superstructure_mud_mortar_brick  ...  has_secondary_use_hotel  \\\n",
       "count                        260601.000000  ...            260601.000000   \n",
       "mean                              0.068154  ...                 0.033626   \n",
       "std                               0.252010  ...                 0.180265   \n",
       "min                               0.000000  ...                 0.000000   \n",
       "25%                               0.000000  ...                 0.000000   \n",
       "50%                               0.000000  ...                 0.000000   \n",
       "75%                               0.000000  ...                 0.000000   \n",
       "max                               1.000000  ...                 1.000000   \n",
       "\n",
       "       has_secondary_use_rental  has_secondary_use_institution  \\\n",
       "count             260601.000000                  260601.000000   \n",
       "mean                   0.008101                       0.000940   \n",
       "std                    0.089638                       0.030647   \n",
       "min                    0.000000                       0.000000   \n",
       "25%                    0.000000                       0.000000   \n",
       "50%                    0.000000                       0.000000   \n",
       "75%                    0.000000                       0.000000   \n",
       "max                    1.000000                       1.000000   \n",
       "\n",
       "       has_secondary_use_school  has_secondary_use_industry  \\\n",
       "count             260601.000000               260601.000000   \n",
       "mean                   0.000361                    0.001071   \n",
       "std                    0.018989                    0.032703   \n",
       "min                    0.000000                    0.000000   \n",
       "25%                    0.000000                    0.000000   \n",
       "50%                    0.000000                    0.000000   \n",
       "75%                    0.000000                    0.000000   \n",
       "max                    1.000000                    1.000000   \n",
       "\n",
       "       has_secondary_use_health_post  has_secondary_use_gov_office  \\\n",
       "count                  260601.000000                 260601.000000   \n",
       "mean                        0.000188                      0.000146   \n",
       "std                         0.013711                      0.012075   \n",
       "min                         0.000000                      0.000000   \n",
       "25%                         0.000000                      0.000000   \n",
       "50%                         0.000000                      0.000000   \n",
       "75%                         0.000000                      0.000000   \n",
       "max                         1.000000                      1.000000   \n",
       "\n",
       "       has_secondary_use_use_police  has_secondary_use_other   damage_grade  \n",
       "count                 260601.000000            260601.000000  260601.000000  \n",
       "mean                       0.000088                 0.005119       2.238272  \n",
       "std                        0.009394                 0.071364       0.611814  \n",
       "min                        0.000000                 0.000000       1.000000  \n",
       "25%                        0.000000                 0.000000       2.000000  \n",
       "50%                        0.000000                 0.000000       2.000000  \n",
       "75%                        0.000000                 0.000000       3.000000  \n",
       "max                        1.000000                 1.000000       3.000000  \n",
       "\n",
       "[8 rows x 29 columns]"
      ]
     },
     "execution_count": 48,
     "metadata": {},
     "output_type": "execute_result"
    }
   ],
   "source": [
    "# Summarize the data to see outliers and patterns\n",
    "training_dataset.describe()"
   ]
  },
  {
   "cell_type": "code",
   "execution_count": 49,
   "metadata": {},
   "outputs": [
    {
     "data": {
      "text/html": [
       "<pre style=\"white-space:pre;overflow-x:auto;line-height:normal;font-family:Menlo,'DejaVu Sans Mono',consolas,'Courier New',monospace\">╭──────────────────────────────────────────────── skimpy summary ─────────────────────────────────────────────────╮\n",
       "│ <span style=\"font-style: italic\">         Data Summary         </span> <span style=\"font-style: italic\">      Data Types       </span> <span style=\"font-style: italic\">        Categories        </span>                               │\n",
       "│ ┏━━━━━━━━━━━━━━━━━━━┳━━━━━━━━┓ ┏━━━━━━━━━━━━━┳━━━━━━━┓ ┏━━━━━━━━━━━━━━━━━━━━━━━━┓                               │\n",
       "│ ┃<span style=\"color: #008080; text-decoration-color: #008080; font-weight: bold\"> dataframe         </span>┃<span style=\"color: #008080; text-decoration-color: #008080; font-weight: bold\"> Values </span>┃ ┃<span style=\"color: #008080; text-decoration-color: #008080; font-weight: bold\"> Column Type </span>┃<span style=\"color: #008080; text-decoration-color: #008080; font-weight: bold\"> Count </span>┃ ┃<span style=\"color: #008080; text-decoration-color: #008080; font-weight: bold\"> Categorical Variables  </span>┃                               │\n",
       "│ ┡━━━━━━━━━━━━━━━━━━━╇━━━━━━━━┩ ┡━━━━━━━━━━━━━╇━━━━━━━┩ ┡━━━━━━━━━━━━━━━━━━━━━━━━┩                               │\n",
       "│ │ Number of rows    │ 260601 │ │ int64       │ 29    │ │ land_surface_condition │                               │\n",
       "│ │ Number of columns │ 37     │ │ category    │ 8     │ │ foundation_type        │                               │\n",
       "│ └───────────────────┴────────┘ └─────────────┴───────┘ │ roof_type              │                               │\n",
       "│                                                        │ ground_floor_type      │                               │\n",
       "│                                                        │ other_floor_type       │                               │\n",
       "│                                                        │ position               │                               │\n",
       "│                                                        │ plan_configuration     │                               │\n",
       "│                                                        │ legal_ownership_status │                               │\n",
       "│                                                        └────────────────────────┘                               │\n",
       "│ <span style=\"font-style: italic\">                                                    number                                                    </span>  │\n",
       "│ ┏━━━━━━━━━━━━━━━━━━━━━━━━━━┳━━━━━┳━━━━━━━┳━━━━━━━━━━━┳━━━━━━━━━┳━━━━━┳━━━━━━━━━┳━━━━━━━━━┳━━━━━━━━━━┳━━━━━━━━┓  │\n",
       "│ ┃<span style=\"font-weight: bold\"> column_name              </span>┃<span style=\"font-weight: bold\"> NA  </span>┃<span style=\"font-weight: bold\"> NA %  </span>┃<span style=\"font-weight: bold\"> mean      </span>┃<span style=\"font-weight: bold\"> sd      </span>┃<span style=\"font-weight: bold\"> p0  </span>┃<span style=\"font-weight: bold\"> p25     </span>┃<span style=\"font-weight: bold\"> p75     </span>┃<span style=\"font-weight: bold\"> p100     </span>┃<span style=\"font-weight: bold\"> hist   </span>┃  │\n",
       "│ ┡━━━━━━━━━━━━━━━━━━━━━━━━━━╇━━━━━╇━━━━━━━╇━━━━━━━━━━━╇━━━━━━━━━╇━━━━━╇━━━━━━━━━╇━━━━━━━━━╇━━━━━━━━━━╇━━━━━━━━┩  │\n",
       "│ │ <span style=\"color: #af87ff; text-decoration-color: #af87ff\">building_id             </span> │ <span style=\"color: #008080; text-decoration-color: #008080\">  0</span> │ <span style=\"color: #008080; text-decoration-color: #008080\">    0</span> │ <span style=\"color: #008080; text-decoration-color: #008080\">   530000</span> │ <span style=\"color: #008080; text-decoration-color: #008080\"> 300000</span> │ <span style=\"color: #008080; text-decoration-color: #008080\">  4</span> │ <span style=\"color: #008080; text-decoration-color: #008080\"> 260000</span> │ <span style=\"color: #008080; text-decoration-color: #008080\"> 790000</span> │ <span style=\"color: #008080; text-decoration-color: #008080\"> 1100000</span> │ <span style=\"color: #008000; text-decoration-color: #008000\">██████</span> │  │\n",
       "│ │ <span style=\"color: #af87ff; text-decoration-color: #af87ff\">count_floors_pre_eq     </span> │ <span style=\"color: #008080; text-decoration-color: #008080\">  0</span> │ <span style=\"color: #008080; text-decoration-color: #008080\">    0</span> │ <span style=\"color: #008080; text-decoration-color: #008080\">      2.1</span> │ <span style=\"color: #008080; text-decoration-color: #008080\">   0.73</span> │ <span style=\"color: #008080; text-decoration-color: #008080\">  1</span> │ <span style=\"color: #008080; text-decoration-color: #008080\">      2</span> │ <span style=\"color: #008080; text-decoration-color: #008080\">      2</span> │ <span style=\"color: #008080; text-decoration-color: #008080\">       9</span> │ <span style=\"color: #008000; text-decoration-color: #008000\">  █▂  </span> │  │\n",
       "│ │ <span style=\"color: #af87ff; text-decoration-color: #af87ff\">age                     </span> │ <span style=\"color: #008080; text-decoration-color: #008080\">  0</span> │ <span style=\"color: #008080; text-decoration-color: #008080\">    0</span> │ <span style=\"color: #008080; text-decoration-color: #008080\">       27</span> │ <span style=\"color: #008080; text-decoration-color: #008080\">     74</span> │ <span style=\"color: #008080; text-decoration-color: #008080\">  0</span> │ <span style=\"color: #008080; text-decoration-color: #008080\">     10</span> │ <span style=\"color: #008080; text-decoration-color: #008080\">     30</span> │ <span style=\"color: #008080; text-decoration-color: #008080\">    1000</span> │ <span style=\"color: #008000; text-decoration-color: #008000\">  █   </span> │  │\n",
       "│ │ <span style=\"color: #af87ff; text-decoration-color: #af87ff\">area_percentage         </span> │ <span style=\"color: #008080; text-decoration-color: #008080\">  0</span> │ <span style=\"color: #008080; text-decoration-color: #008080\">    0</span> │ <span style=\"color: #008080; text-decoration-color: #008080\">        8</span> │ <span style=\"color: #008080; text-decoration-color: #008080\">    4.4</span> │ <span style=\"color: #008080; text-decoration-color: #008080\">  1</span> │ <span style=\"color: #008080; text-decoration-color: #008080\">      5</span> │ <span style=\"color: #008080; text-decoration-color: #008080\">      9</span> │ <span style=\"color: #008080; text-decoration-color: #008080\">     100</span> │ <span style=\"color: #008000; text-decoration-color: #008000\">  █   </span> │  │\n",
       "│ │ <span style=\"color: #af87ff; text-decoration-color: #af87ff\">height_percentage       </span> │ <span style=\"color: #008080; text-decoration-color: #008080\">  0</span> │ <span style=\"color: #008080; text-decoration-color: #008080\">    0</span> │ <span style=\"color: #008080; text-decoration-color: #008080\">      5.4</span> │ <span style=\"color: #008080; text-decoration-color: #008080\">    1.9</span> │ <span style=\"color: #008080; text-decoration-color: #008080\">  2</span> │ <span style=\"color: #008080; text-decoration-color: #008080\">      4</span> │ <span style=\"color: #008080; text-decoration-color: #008080\">      6</span> │ <span style=\"color: #008080; text-decoration-color: #008080\">      32</span> │ <span style=\"color: #008000; text-decoration-color: #008000\">  █▂  </span> │  │\n",
       "│ │ <span style=\"color: #af87ff; text-decoration-color: #af87ff\">has_superstructure_a    </span> │ <span style=\"color: #008080; text-decoration-color: #008080\">  0</span> │ <span style=\"color: #008080; text-decoration-color: #008080\">    0</span> │ <span style=\"color: #008080; text-decoration-color: #008080\">    0.089</span> │ <span style=\"color: #008080; text-decoration-color: #008080\">   0.28</span> │ <span style=\"color: #008080; text-decoration-color: #008080\">  0</span> │ <span style=\"color: #008080; text-decoration-color: #008080\">      0</span> │ <span style=\"color: #008080; text-decoration-color: #008080\">      0</span> │ <span style=\"color: #008080; text-decoration-color: #008080\">       1</span> │ <span style=\"color: #008000; text-decoration-color: #008000\">█    ▁</span> │  │\n",
       "│ │ <span style=\"color: #af87ff; text-decoration-color: #af87ff\">has_superstructure_m    </span> │ <span style=\"color: #008080; text-decoration-color: #008080\">  0</span> │ <span style=\"color: #008080; text-decoration-color: #008080\">    0</span> │ <span style=\"color: #008080; text-decoration-color: #008080\">     0.76</span> │ <span style=\"color: #008080; text-decoration-color: #008080\">   0.43</span> │ <span style=\"color: #008080; text-decoration-color: #008080\">  0</span> │ <span style=\"color: #008080; text-decoration-color: #008080\">      1</span> │ <span style=\"color: #008080; text-decoration-color: #008080\">      1</span> │ <span style=\"color: #008080; text-decoration-color: #008080\">       1</span> │ <span style=\"color: #008000; text-decoration-color: #008000\">▂    █</span> │  │\n",
       "│ │ <span style=\"color: #af87ff; text-decoration-color: #af87ff\">has_superstructure_s    </span> │ <span style=\"color: #008080; text-decoration-color: #008080\">  0</span> │ <span style=\"color: #008080; text-decoration-color: #008080\">    0</span> │ <span style=\"color: #008080; text-decoration-color: #008080\">    0.034</span> │ <span style=\"color: #008080; text-decoration-color: #008080\">   0.18</span> │ <span style=\"color: #008080; text-decoration-color: #008080\">  0</span> │ <span style=\"color: #008080; text-decoration-color: #008080\">      0</span> │ <span style=\"color: #008080; text-decoration-color: #008080\">      0</span> │ <span style=\"color: #008080; text-decoration-color: #008080\">       1</span> │ <span style=\"color: #008000; text-decoration-color: #008000\">  █   </span> │  │\n",
       "│ │ <span style=\"color: #af87ff; text-decoration-color: #af87ff\">has_superstructure_c    </span> │ <span style=\"color: #008080; text-decoration-color: #008080\">  0</span> │ <span style=\"color: #008080; text-decoration-color: #008080\">    0</span> │ <span style=\"color: #008080; text-decoration-color: #008080\">    0.018</span> │ <span style=\"color: #008080; text-decoration-color: #008080\">   0.13</span> │ <span style=\"color: #008080; text-decoration-color: #008080\">  0</span> │ <span style=\"color: #008080; text-decoration-color: #008080\">      0</span> │ <span style=\"color: #008080; text-decoration-color: #008080\">      0</span> │ <span style=\"color: #008080; text-decoration-color: #008080\">       1</span> │ <span style=\"color: #008000; text-decoration-color: #008000\">  █   </span> │  │\n",
       "│ │ <span style=\"color: #af87ff; text-decoration-color: #af87ff\">has_superstructure_m    </span> │ <span style=\"color: #008080; text-decoration-color: #008080\">  0</span> │ <span style=\"color: #008080; text-decoration-color: #008080\">    0</span> │ <span style=\"color: #008080; text-decoration-color: #008080\">    0.068</span> │ <span style=\"color: #008080; text-decoration-color: #008080\">   0.25</span> │ <span style=\"color: #008080; text-decoration-color: #008080\">  0</span> │ <span style=\"color: #008080; text-decoration-color: #008080\">      0</span> │ <span style=\"color: #008080; text-decoration-color: #008080\">      0</span> │ <span style=\"color: #008080; text-decoration-color: #008080\">       1</span> │ <span style=\"color: #008000; text-decoration-color: #008000\">█    ▁</span> │  │\n",
       "│ │ <span style=\"color: #af87ff; text-decoration-color: #af87ff\">has_superstructure_c    </span> │ <span style=\"color: #008080; text-decoration-color: #008080\">  0</span> │ <span style=\"color: #008080; text-decoration-color: #008080\">    0</span> │ <span style=\"color: #008080; text-decoration-color: #008080\">    0.075</span> │ <span style=\"color: #008080; text-decoration-color: #008080\">   0.26</span> │ <span style=\"color: #008080; text-decoration-color: #008080\">  0</span> │ <span style=\"color: #008080; text-decoration-color: #008080\">      0</span> │ <span style=\"color: #008080; text-decoration-color: #008080\">      0</span> │ <span style=\"color: #008080; text-decoration-color: #008080\">       1</span> │ <span style=\"color: #008000; text-decoration-color: #008000\">█    ▁</span> │  │\n",
       "│ │ <span style=\"color: #af87ff; text-decoration-color: #af87ff\">has_superstructure_t    </span> │ <span style=\"color: #008080; text-decoration-color: #008080\">  0</span> │ <span style=\"color: #008080; text-decoration-color: #008080\">    0</span> │ <span style=\"color: #008080; text-decoration-color: #008080\">     0.25</span> │ <span style=\"color: #008080; text-decoration-color: #008080\">   0.44</span> │ <span style=\"color: #008080; text-decoration-color: #008080\">  0</span> │ <span style=\"color: #008080; text-decoration-color: #008080\">      0</span> │ <span style=\"color: #008080; text-decoration-color: #008080\">      1</span> │ <span style=\"color: #008080; text-decoration-color: #008080\">       1</span> │ <span style=\"color: #008000; text-decoration-color: #008000\">█    ▃</span> │  │\n",
       "│ │ <span style=\"color: #af87ff; text-decoration-color: #af87ff\">has_superstructure_b    </span> │ <span style=\"color: #008080; text-decoration-color: #008080\">  0</span> │ <span style=\"color: #008080; text-decoration-color: #008080\">    0</span> │ <span style=\"color: #008080; text-decoration-color: #008080\">    0.085</span> │ <span style=\"color: #008080; text-decoration-color: #008080\">   0.28</span> │ <span style=\"color: #008080; text-decoration-color: #008080\">  0</span> │ <span style=\"color: #008080; text-decoration-color: #008080\">      0</span> │ <span style=\"color: #008080; text-decoration-color: #008080\">      0</span> │ <span style=\"color: #008080; text-decoration-color: #008080\">       1</span> │ <span style=\"color: #008000; text-decoration-color: #008000\">█    ▁</span> │  │\n",
       "│ │ <span style=\"color: #af87ff; text-decoration-color: #af87ff\">has_superstructure_r    </span> │ <span style=\"color: #008080; text-decoration-color: #008080\">  0</span> │ <span style=\"color: #008080; text-decoration-color: #008080\">    0</span> │ <span style=\"color: #008080; text-decoration-color: #008080\">    0.043</span> │ <span style=\"color: #008080; text-decoration-color: #008080\">    0.2</span> │ <span style=\"color: #008080; text-decoration-color: #008080\">  0</span> │ <span style=\"color: #008080; text-decoration-color: #008080\">      0</span> │ <span style=\"color: #008080; text-decoration-color: #008080\">      0</span> │ <span style=\"color: #008080; text-decoration-color: #008080\">       1</span> │ <span style=\"color: #008000; text-decoration-color: #008000\">  █   </span> │  │\n",
       "│ │ <span style=\"color: #af87ff; text-decoration-color: #af87ff\">has_superstructure_r    </span> │ <span style=\"color: #008080; text-decoration-color: #008080\">  0</span> │ <span style=\"color: #008080; text-decoration-color: #008080\">    0</span> │ <span style=\"color: #008080; text-decoration-color: #008080\">    0.016</span> │ <span style=\"color: #008080; text-decoration-color: #008080\">   0.12</span> │ <span style=\"color: #008080; text-decoration-color: #008080\">  0</span> │ <span style=\"color: #008080; text-decoration-color: #008080\">      0</span> │ <span style=\"color: #008080; text-decoration-color: #008080\">      0</span> │ <span style=\"color: #008080; text-decoration-color: #008080\">       1</span> │ <span style=\"color: #008000; text-decoration-color: #008000\">  █   </span> │  │\n",
       "│ │ <span style=\"color: #af87ff; text-decoration-color: #af87ff\">has_superstructure_o    </span> │ <span style=\"color: #008080; text-decoration-color: #008080\">  0</span> │ <span style=\"color: #008080; text-decoration-color: #008080\">    0</span> │ <span style=\"color: #008080; text-decoration-color: #008080\">    0.015</span> │ <span style=\"color: #008080; text-decoration-color: #008080\">   0.12</span> │ <span style=\"color: #008080; text-decoration-color: #008080\">  0</span> │ <span style=\"color: #008080; text-decoration-color: #008080\">      0</span> │ <span style=\"color: #008080; text-decoration-color: #008080\">      0</span> │ <span style=\"color: #008080; text-decoration-color: #008080\">       1</span> │ <span style=\"color: #008000; text-decoration-color: #008000\">  █   </span> │  │\n",
       "│ │ <span style=\"color: #af87ff; text-decoration-color: #af87ff\">count_families          </span> │ <span style=\"color: #008080; text-decoration-color: #008080\">  0</span> │ <span style=\"color: #008080; text-decoration-color: #008080\">    0</span> │ <span style=\"color: #008080; text-decoration-color: #008080\">     0.98</span> │ <span style=\"color: #008080; text-decoration-color: #008080\">   0.42</span> │ <span style=\"color: #008080; text-decoration-color: #008080\">  0</span> │ <span style=\"color: #008080; text-decoration-color: #008080\">      1</span> │ <span style=\"color: #008080; text-decoration-color: #008080\">      1</span> │ <span style=\"color: #008080; text-decoration-color: #008080\">       9</span> │ <span style=\"color: #008000; text-decoration-color: #008000\">  █   </span> │  │\n",
       "│ │ <span style=\"color: #af87ff; text-decoration-color: #af87ff\">has_secondary_use       </span> │ <span style=\"color: #008080; text-decoration-color: #008080\">  0</span> │ <span style=\"color: #008080; text-decoration-color: #008080\">    0</span> │ <span style=\"color: #008080; text-decoration-color: #008080\">     0.11</span> │ <span style=\"color: #008080; text-decoration-color: #008080\">   0.32</span> │ <span style=\"color: #008080; text-decoration-color: #008080\">  0</span> │ <span style=\"color: #008080; text-decoration-color: #008080\">      0</span> │ <span style=\"color: #008080; text-decoration-color: #008080\">      0</span> │ <span style=\"color: #008080; text-decoration-color: #008080\">       1</span> │ <span style=\"color: #008000; text-decoration-color: #008000\">█    ▁</span> │  │\n",
       "│ │ <span style=\"color: #af87ff; text-decoration-color: #af87ff\">has_secondary_use_ag    </span> │ <span style=\"color: #008080; text-decoration-color: #008080\">  0</span> │ <span style=\"color: #008080; text-decoration-color: #008080\">    0</span> │ <span style=\"color: #008080; text-decoration-color: #008080\">    0.064</span> │ <span style=\"color: #008080; text-decoration-color: #008080\">   0.25</span> │ <span style=\"color: #008080; text-decoration-color: #008080\">  0</span> │ <span style=\"color: #008080; text-decoration-color: #008080\">      0</span> │ <span style=\"color: #008080; text-decoration-color: #008080\">      0</span> │ <span style=\"color: #008080; text-decoration-color: #008080\">       1</span> │ <span style=\"color: #008000; text-decoration-color: #008000\">█    ▁</span> │  │\n",
       "│ │ <span style=\"color: #af87ff; text-decoration-color: #af87ff\">has_secondary_use_ho    </span> │ <span style=\"color: #008080; text-decoration-color: #008080\">  0</span> │ <span style=\"color: #008080; text-decoration-color: #008080\">    0</span> │ <span style=\"color: #008080; text-decoration-color: #008080\">    0.034</span> │ <span style=\"color: #008080; text-decoration-color: #008080\">   0.18</span> │ <span style=\"color: #008080; text-decoration-color: #008080\">  0</span> │ <span style=\"color: #008080; text-decoration-color: #008080\">      0</span> │ <span style=\"color: #008080; text-decoration-color: #008080\">      0</span> │ <span style=\"color: #008080; text-decoration-color: #008080\">       1</span> │ <span style=\"color: #008000; text-decoration-color: #008000\">  █   </span> │  │\n",
       "│ │ <span style=\"color: #af87ff; text-decoration-color: #af87ff\">has_secondary_use_re    </span> │ <span style=\"color: #008080; text-decoration-color: #008080\">  0</span> │ <span style=\"color: #008080; text-decoration-color: #008080\">    0</span> │ <span style=\"color: #008080; text-decoration-color: #008080\">   0.0081</span> │ <span style=\"color: #008080; text-decoration-color: #008080\">   0.09</span> │ <span style=\"color: #008080; text-decoration-color: #008080\">  0</span> │ <span style=\"color: #008080; text-decoration-color: #008080\">      0</span> │ <span style=\"color: #008080; text-decoration-color: #008080\">      0</span> │ <span style=\"color: #008080; text-decoration-color: #008080\">       1</span> │ <span style=\"color: #008000; text-decoration-color: #008000\">  █   </span> │  │\n",
       "│ │ <span style=\"color: #af87ff; text-decoration-color: #af87ff\">has_secondary_use_in    </span> │ <span style=\"color: #008080; text-decoration-color: #008080\">  0</span> │ <span style=\"color: #008080; text-decoration-color: #008080\">    0</span> │ <span style=\"color: #008080; text-decoration-color: #008080\">  0.00094</span> │ <span style=\"color: #008080; text-decoration-color: #008080\">  0.031</span> │ <span style=\"color: #008080; text-decoration-color: #008080\">  0</span> │ <span style=\"color: #008080; text-decoration-color: #008080\">      0</span> │ <span style=\"color: #008080; text-decoration-color: #008080\">      0</span> │ <span style=\"color: #008080; text-decoration-color: #008080\">       1</span> │ <span style=\"color: #008000; text-decoration-color: #008000\">  █   </span> │  │\n",
       "│ │ <span style=\"color: #af87ff; text-decoration-color: #af87ff\">has_secondary_use_sc    </span> │ <span style=\"color: #008080; text-decoration-color: #008080\">  0</span> │ <span style=\"color: #008080; text-decoration-color: #008080\">    0</span> │ <span style=\"color: #008080; text-decoration-color: #008080\">  0.00036</span> │ <span style=\"color: #008080; text-decoration-color: #008080\">  0.019</span> │ <span style=\"color: #008080; text-decoration-color: #008080\">  0</span> │ <span style=\"color: #008080; text-decoration-color: #008080\">      0</span> │ <span style=\"color: #008080; text-decoration-color: #008080\">      0</span> │ <span style=\"color: #008080; text-decoration-color: #008080\">       1</span> │ <span style=\"color: #008000; text-decoration-color: #008000\">  █   </span> │  │\n",
       "│ │ <span style=\"color: #af87ff; text-decoration-color: #af87ff\">has_secondary_use_in    </span> │ <span style=\"color: #008080; text-decoration-color: #008080\">  0</span> │ <span style=\"color: #008080; text-decoration-color: #008080\">    0</span> │ <span style=\"color: #008080; text-decoration-color: #008080\">   0.0011</span> │ <span style=\"color: #008080; text-decoration-color: #008080\">  0.033</span> │ <span style=\"color: #008080; text-decoration-color: #008080\">  0</span> │ <span style=\"color: #008080; text-decoration-color: #008080\">      0</span> │ <span style=\"color: #008080; text-decoration-color: #008080\">      0</span> │ <span style=\"color: #008080; text-decoration-color: #008080\">       1</span> │ <span style=\"color: #008000; text-decoration-color: #008000\">  █   </span> │  │\n",
       "│ │ <span style=\"color: #af87ff; text-decoration-color: #af87ff\">has_secondary_use_he    </span> │ <span style=\"color: #008080; text-decoration-color: #008080\">  0</span> │ <span style=\"color: #008080; text-decoration-color: #008080\">    0</span> │ <span style=\"color: #008080; text-decoration-color: #008080\">  0.00019</span> │ <span style=\"color: #008080; text-decoration-color: #008080\">  0.014</span> │ <span style=\"color: #008080; text-decoration-color: #008080\">  0</span> │ <span style=\"color: #008080; text-decoration-color: #008080\">      0</span> │ <span style=\"color: #008080; text-decoration-color: #008080\">      0</span> │ <span style=\"color: #008080; text-decoration-color: #008080\">       1</span> │ <span style=\"color: #008000; text-decoration-color: #008000\">  █   </span> │  │\n",
       "│ │ <span style=\"color: #af87ff; text-decoration-color: #af87ff\">has_secondary_use_go    </span> │ <span style=\"color: #008080; text-decoration-color: #008080\">  0</span> │ <span style=\"color: #008080; text-decoration-color: #008080\">    0</span> │ <span style=\"color: #008080; text-decoration-color: #008080\">  0.00015</span> │ <span style=\"color: #008080; text-decoration-color: #008080\">  0.012</span> │ <span style=\"color: #008080; text-decoration-color: #008080\">  0</span> │ <span style=\"color: #008080; text-decoration-color: #008080\">      0</span> │ <span style=\"color: #008080; text-decoration-color: #008080\">      0</span> │ <span style=\"color: #008080; text-decoration-color: #008080\">       1</span> │ <span style=\"color: #008000; text-decoration-color: #008000\">  █   </span> │  │\n",
       "│ │ <span style=\"color: #af87ff; text-decoration-color: #af87ff\">has_secondary_use_us    </span> │ <span style=\"color: #008080; text-decoration-color: #008080\">  0</span> │ <span style=\"color: #008080; text-decoration-color: #008080\">    0</span> │ <span style=\"color: #008080; text-decoration-color: #008080\">  8.8e-05</span> │ <span style=\"color: #008080; text-decoration-color: #008080\"> 0.0094</span> │ <span style=\"color: #008080; text-decoration-color: #008080\">  0</span> │ <span style=\"color: #008080; text-decoration-color: #008080\">      0</span> │ <span style=\"color: #008080; text-decoration-color: #008080\">      0</span> │ <span style=\"color: #008080; text-decoration-color: #008080\">       1</span> │ <span style=\"color: #008000; text-decoration-color: #008000\">  █   </span> │  │\n",
       "│ │ <span style=\"color: #af87ff; text-decoration-color: #af87ff\">has_secondary_use_ot    </span> │ <span style=\"color: #008080; text-decoration-color: #008080\">  0</span> │ <span style=\"color: #008080; text-decoration-color: #008080\">    0</span> │ <span style=\"color: #008080; text-decoration-color: #008080\">   0.0051</span> │ <span style=\"color: #008080; text-decoration-color: #008080\">  0.071</span> │ <span style=\"color: #008080; text-decoration-color: #008080\">  0</span> │ <span style=\"color: #008080; text-decoration-color: #008080\">      0</span> │ <span style=\"color: #008080; text-decoration-color: #008080\">      0</span> │ <span style=\"color: #008080; text-decoration-color: #008080\">       1</span> │ <span style=\"color: #008000; text-decoration-color: #008000\">  █   </span> │  │\n",
       "│ │ <span style=\"color: #af87ff; text-decoration-color: #af87ff\">damage_grade            </span> │ <span style=\"color: #008080; text-decoration-color: #008080\">  0</span> │ <span style=\"color: #008080; text-decoration-color: #008080\">    0</span> │ <span style=\"color: #008080; text-decoration-color: #008080\">      2.2</span> │ <span style=\"color: #008080; text-decoration-color: #008080\">   0.61</span> │ <span style=\"color: #008080; text-decoration-color: #008080\">  1</span> │ <span style=\"color: #008080; text-decoration-color: #008080\">      2</span> │ <span style=\"color: #008080; text-decoration-color: #008080\">      3</span> │ <span style=\"color: #008080; text-decoration-color: #008080\">       3</span> │ <span style=\"color: #008000; text-decoration-color: #008000\">▁  █ ▅</span> │  │\n",
       "│ └──────────────────────────┴─────┴───────┴───────────┴─────────┴─────┴─────────┴─────────┴──────────┴────────┘  │\n",
       "│ <span style=\"font-style: italic\">                                                   category                                                   </span>  │\n",
       "│ ┏━━━━━━━━━━━━━━━━━━━━━━━━━━━━━━━━━━━━━━━━━━━━━━━┳━━━━━━━━━┳━━━━━━━━━━━━━┳━━━━━━━━━━━━━━━━━━━┳━━━━━━━━━━━━━━━━┓  │\n",
       "│ ┃<span style=\"font-weight: bold\"> column_name                                   </span>┃<span style=\"font-weight: bold\"> NA      </span>┃<span style=\"font-weight: bold\"> NA %        </span>┃<span style=\"font-weight: bold\"> ordered           </span>┃<span style=\"font-weight: bold\"> unique         </span>┃  │\n",
       "│ ┡━━━━━━━━━━━━━━━━━━━━━━━━━━━━━━━━━━━━━━━━━━━━━━━╇━━━━━━━━━╇━━━━━━━━━━━━━╇━━━━━━━━━━━━━━━━━━━╇━━━━━━━━━━━━━━━━┩  │\n",
       "│ │ <span style=\"color: #af87ff; text-decoration-color: #af87ff\">land_surface_conditi                         </span> │ <span style=\"color: #008080; text-decoration-color: #008080\">      0</span> │ <span style=\"color: #008080; text-decoration-color: #008080\">          0</span> │ <span style=\"color: #00d7ff; text-decoration-color: #00d7ff\">False            </span> │ <span style=\"color: #008080; text-decoration-color: #008080\">             3</span> │  │\n",
       "│ │ <span style=\"color: #af87ff; text-decoration-color: #af87ff\">foundation_type                              </span> │ <span style=\"color: #008080; text-decoration-color: #008080\">      0</span> │ <span style=\"color: #008080; text-decoration-color: #008080\">          0</span> │ <span style=\"color: #00d7ff; text-decoration-color: #00d7ff\">False            </span> │ <span style=\"color: #008080; text-decoration-color: #008080\">             5</span> │  │\n",
       "│ │ <span style=\"color: #af87ff; text-decoration-color: #af87ff\">roof_type                                    </span> │ <span style=\"color: #008080; text-decoration-color: #008080\">      0</span> │ <span style=\"color: #008080; text-decoration-color: #008080\">          0</span> │ <span style=\"color: #00d7ff; text-decoration-color: #00d7ff\">False            </span> │ <span style=\"color: #008080; text-decoration-color: #008080\">             3</span> │  │\n",
       "│ │ <span style=\"color: #af87ff; text-decoration-color: #af87ff\">ground_floor_type                            </span> │ <span style=\"color: #008080; text-decoration-color: #008080\">      0</span> │ <span style=\"color: #008080; text-decoration-color: #008080\">          0</span> │ <span style=\"color: #00d7ff; text-decoration-color: #00d7ff\">False            </span> │ <span style=\"color: #008080; text-decoration-color: #008080\">             5</span> │  │\n",
       "│ │ <span style=\"color: #af87ff; text-decoration-color: #af87ff\">other_floor_type                             </span> │ <span style=\"color: #008080; text-decoration-color: #008080\">      0</span> │ <span style=\"color: #008080; text-decoration-color: #008080\">          0</span> │ <span style=\"color: #00d7ff; text-decoration-color: #00d7ff\">False            </span> │ <span style=\"color: #008080; text-decoration-color: #008080\">             4</span> │  │\n",
       "│ │ <span style=\"color: #af87ff; text-decoration-color: #af87ff\">position                                     </span> │ <span style=\"color: #008080; text-decoration-color: #008080\">      0</span> │ <span style=\"color: #008080; text-decoration-color: #008080\">          0</span> │ <span style=\"color: #00d7ff; text-decoration-color: #00d7ff\">False            </span> │ <span style=\"color: #008080; text-decoration-color: #008080\">             4</span> │  │\n",
       "│ │ <span style=\"color: #af87ff; text-decoration-color: #af87ff\">plan_configuration                           </span> │ <span style=\"color: #008080; text-decoration-color: #008080\">      0</span> │ <span style=\"color: #008080; text-decoration-color: #008080\">          0</span> │ <span style=\"color: #00d7ff; text-decoration-color: #00d7ff\">False            </span> │ <span style=\"color: #008080; text-decoration-color: #008080\">            10</span> │  │\n",
       "│ │ <span style=\"color: #af87ff; text-decoration-color: #af87ff\">legal_ownership_stat                         </span> │ <span style=\"color: #008080; text-decoration-color: #008080\">      0</span> │ <span style=\"color: #008080; text-decoration-color: #008080\">          0</span> │ <span style=\"color: #00d7ff; text-decoration-color: #00d7ff\">False            </span> │ <span style=\"color: #008080; text-decoration-color: #008080\">             4</span> │  │\n",
       "│ └───────────────────────────────────────────────┴─────────┴─────────────┴───────────────────┴────────────────┘  │\n",
       "╰────────────────────────────────────────────────────── End ──────────────────────────────────────────────────────╯\n",
       "</pre>\n"
      ],
      "text/plain": [
       "╭──────────────────────────────────────────────── skimpy summary ─────────────────────────────────────────────────╮\n",
       "│ \u001b[3m         Data Summary         \u001b[0m \u001b[3m      Data Types       \u001b[0m \u001b[3m        Categories        \u001b[0m                               │\n",
       "│ ┏━━━━━━━━━━━━━━━━━━━┳━━━━━━━━┓ ┏━━━━━━━━━━━━━┳━━━━━━━┓ ┏━━━━━━━━━━━━━━━━━━━━━━━━┓                               │\n",
       "│ ┃\u001b[1;36m \u001b[0m\u001b[1;36mdataframe        \u001b[0m\u001b[1;36m \u001b[0m┃\u001b[1;36m \u001b[0m\u001b[1;36mValues\u001b[0m\u001b[1;36m \u001b[0m┃ ┃\u001b[1;36m \u001b[0m\u001b[1;36mColumn Type\u001b[0m\u001b[1;36m \u001b[0m┃\u001b[1;36m \u001b[0m\u001b[1;36mCount\u001b[0m\u001b[1;36m \u001b[0m┃ ┃\u001b[1;36m \u001b[0m\u001b[1;36mCategorical Variables\u001b[0m\u001b[1;36m \u001b[0m\u001b[1;36m \u001b[0m┃                               │\n",
       "│ ┡━━━━━━━━━━━━━━━━━━━╇━━━━━━━━┩ ┡━━━━━━━━━━━━━╇━━━━━━━┩ ┡━━━━━━━━━━━━━━━━━━━━━━━━┩                               │\n",
       "│ │ Number of rows    │ 260601 │ │ int64       │ 29    │ │ land_surface_condition │                               │\n",
       "│ │ Number of columns │ 37     │ │ category    │ 8     │ │ foundation_type        │                               │\n",
       "│ └───────────────────┴────────┘ └─────────────┴───────┘ │ roof_type              │                               │\n",
       "│                                                        │ ground_floor_type      │                               │\n",
       "│                                                        │ other_floor_type       │                               │\n",
       "│                                                        │ position               │                               │\n",
       "│                                                        │ plan_configuration     │                               │\n",
       "│                                                        │ legal_ownership_status │                               │\n",
       "│                                                        └────────────────────────┘                               │\n",
       "│ \u001b[3m                                                    number                                                    \u001b[0m  │\n",
       "│ ┏━━━━━━━━━━━━━━━━━━━━━━━━━━┳━━━━━┳━━━━━━━┳━━━━━━━━━━━┳━━━━━━━━━┳━━━━━┳━━━━━━━━━┳━━━━━━━━━┳━━━━━━━━━━┳━━━━━━━━┓  │\n",
       "│ ┃\u001b[1m \u001b[0m\u001b[1mcolumn_name             \u001b[0m\u001b[1m \u001b[0m┃\u001b[1m \u001b[0m\u001b[1mNA \u001b[0m\u001b[1m \u001b[0m┃\u001b[1m \u001b[0m\u001b[1mNA % \u001b[0m\u001b[1m \u001b[0m┃\u001b[1m \u001b[0m\u001b[1mmean     \u001b[0m\u001b[1m \u001b[0m┃\u001b[1m \u001b[0m\u001b[1msd     \u001b[0m\u001b[1m \u001b[0m┃\u001b[1m \u001b[0m\u001b[1mp0 \u001b[0m\u001b[1m \u001b[0m┃\u001b[1m \u001b[0m\u001b[1mp25    \u001b[0m\u001b[1m \u001b[0m┃\u001b[1m \u001b[0m\u001b[1mp75    \u001b[0m\u001b[1m \u001b[0m┃\u001b[1m \u001b[0m\u001b[1mp100    \u001b[0m\u001b[1m \u001b[0m┃\u001b[1m \u001b[0m\u001b[1mhist  \u001b[0m\u001b[1m \u001b[0m┃  │\n",
       "│ ┡━━━━━━━━━━━━━━━━━━━━━━━━━━╇━━━━━╇━━━━━━━╇━━━━━━━━━━━╇━━━━━━━━━╇━━━━━╇━━━━━━━━━╇━━━━━━━━━╇━━━━━━━━━━╇━━━━━━━━┩  │\n",
       "│ │ \u001b[38;5;141mbuilding_id             \u001b[0m │ \u001b[36m  0\u001b[0m │ \u001b[36m    0\u001b[0m │ \u001b[36m   530000\u001b[0m │ \u001b[36m 300000\u001b[0m │ \u001b[36m  4\u001b[0m │ \u001b[36m 260000\u001b[0m │ \u001b[36m 790000\u001b[0m │ \u001b[36m 1100000\u001b[0m │ \u001b[32m██████\u001b[0m │  │\n",
       "│ │ \u001b[38;5;141mcount_floors_pre_eq     \u001b[0m │ \u001b[36m  0\u001b[0m │ \u001b[36m    0\u001b[0m │ \u001b[36m      2.1\u001b[0m │ \u001b[36m   0.73\u001b[0m │ \u001b[36m  1\u001b[0m │ \u001b[36m      2\u001b[0m │ \u001b[36m      2\u001b[0m │ \u001b[36m       9\u001b[0m │ \u001b[32m  █▂  \u001b[0m │  │\n",
       "│ │ \u001b[38;5;141mage                     \u001b[0m │ \u001b[36m  0\u001b[0m │ \u001b[36m    0\u001b[0m │ \u001b[36m       27\u001b[0m │ \u001b[36m     74\u001b[0m │ \u001b[36m  0\u001b[0m │ \u001b[36m     10\u001b[0m │ \u001b[36m     30\u001b[0m │ \u001b[36m    1000\u001b[0m │ \u001b[32m  █   \u001b[0m │  │\n",
       "│ │ \u001b[38;5;141marea_percentage         \u001b[0m │ \u001b[36m  0\u001b[0m │ \u001b[36m    0\u001b[0m │ \u001b[36m        8\u001b[0m │ \u001b[36m    4.4\u001b[0m │ \u001b[36m  1\u001b[0m │ \u001b[36m      5\u001b[0m │ \u001b[36m      9\u001b[0m │ \u001b[36m     100\u001b[0m │ \u001b[32m  █   \u001b[0m │  │\n",
       "│ │ \u001b[38;5;141mheight_percentage       \u001b[0m │ \u001b[36m  0\u001b[0m │ \u001b[36m    0\u001b[0m │ \u001b[36m      5.4\u001b[0m │ \u001b[36m    1.9\u001b[0m │ \u001b[36m  2\u001b[0m │ \u001b[36m      4\u001b[0m │ \u001b[36m      6\u001b[0m │ \u001b[36m      32\u001b[0m │ \u001b[32m  █▂  \u001b[0m │  │\n",
       "│ │ \u001b[38;5;141mhas_superstructure_a    \u001b[0m │ \u001b[36m  0\u001b[0m │ \u001b[36m    0\u001b[0m │ \u001b[36m    0.089\u001b[0m │ \u001b[36m   0.28\u001b[0m │ \u001b[36m  0\u001b[0m │ \u001b[36m      0\u001b[0m │ \u001b[36m      0\u001b[0m │ \u001b[36m       1\u001b[0m │ \u001b[32m█    ▁\u001b[0m │  │\n",
       "│ │ \u001b[38;5;141mhas_superstructure_m    \u001b[0m │ \u001b[36m  0\u001b[0m │ \u001b[36m    0\u001b[0m │ \u001b[36m     0.76\u001b[0m │ \u001b[36m   0.43\u001b[0m │ \u001b[36m  0\u001b[0m │ \u001b[36m      1\u001b[0m │ \u001b[36m      1\u001b[0m │ \u001b[36m       1\u001b[0m │ \u001b[32m▂    █\u001b[0m │  │\n",
       "│ │ \u001b[38;5;141mhas_superstructure_s    \u001b[0m │ \u001b[36m  0\u001b[0m │ \u001b[36m    0\u001b[0m │ \u001b[36m    0.034\u001b[0m │ \u001b[36m   0.18\u001b[0m │ \u001b[36m  0\u001b[0m │ \u001b[36m      0\u001b[0m │ \u001b[36m      0\u001b[0m │ \u001b[36m       1\u001b[0m │ \u001b[32m  █   \u001b[0m │  │\n",
       "│ │ \u001b[38;5;141mhas_superstructure_c    \u001b[0m │ \u001b[36m  0\u001b[0m │ \u001b[36m    0\u001b[0m │ \u001b[36m    0.018\u001b[0m │ \u001b[36m   0.13\u001b[0m │ \u001b[36m  0\u001b[0m │ \u001b[36m      0\u001b[0m │ \u001b[36m      0\u001b[0m │ \u001b[36m       1\u001b[0m │ \u001b[32m  █   \u001b[0m │  │\n",
       "│ │ \u001b[38;5;141mhas_superstructure_m    \u001b[0m │ \u001b[36m  0\u001b[0m │ \u001b[36m    0\u001b[0m │ \u001b[36m    0.068\u001b[0m │ \u001b[36m   0.25\u001b[0m │ \u001b[36m  0\u001b[0m │ \u001b[36m      0\u001b[0m │ \u001b[36m      0\u001b[0m │ \u001b[36m       1\u001b[0m │ \u001b[32m█    ▁\u001b[0m │  │\n",
       "│ │ \u001b[38;5;141mhas_superstructure_c    \u001b[0m │ \u001b[36m  0\u001b[0m │ \u001b[36m    0\u001b[0m │ \u001b[36m    0.075\u001b[0m │ \u001b[36m   0.26\u001b[0m │ \u001b[36m  0\u001b[0m │ \u001b[36m      0\u001b[0m │ \u001b[36m      0\u001b[0m │ \u001b[36m       1\u001b[0m │ \u001b[32m█    ▁\u001b[0m │  │\n",
       "│ │ \u001b[38;5;141mhas_superstructure_t    \u001b[0m │ \u001b[36m  0\u001b[0m │ \u001b[36m    0\u001b[0m │ \u001b[36m     0.25\u001b[0m │ \u001b[36m   0.44\u001b[0m │ \u001b[36m  0\u001b[0m │ \u001b[36m      0\u001b[0m │ \u001b[36m      1\u001b[0m │ \u001b[36m       1\u001b[0m │ \u001b[32m█    ▃\u001b[0m │  │\n",
       "│ │ \u001b[38;5;141mhas_superstructure_b    \u001b[0m │ \u001b[36m  0\u001b[0m │ \u001b[36m    0\u001b[0m │ \u001b[36m    0.085\u001b[0m │ \u001b[36m   0.28\u001b[0m │ \u001b[36m  0\u001b[0m │ \u001b[36m      0\u001b[0m │ \u001b[36m      0\u001b[0m │ \u001b[36m       1\u001b[0m │ \u001b[32m█    ▁\u001b[0m │  │\n",
       "│ │ \u001b[38;5;141mhas_superstructure_r    \u001b[0m │ \u001b[36m  0\u001b[0m │ \u001b[36m    0\u001b[0m │ \u001b[36m    0.043\u001b[0m │ \u001b[36m    0.2\u001b[0m │ \u001b[36m  0\u001b[0m │ \u001b[36m      0\u001b[0m │ \u001b[36m      0\u001b[0m │ \u001b[36m       1\u001b[0m │ \u001b[32m  █   \u001b[0m │  │\n",
       "│ │ \u001b[38;5;141mhas_superstructure_r    \u001b[0m │ \u001b[36m  0\u001b[0m │ \u001b[36m    0\u001b[0m │ \u001b[36m    0.016\u001b[0m │ \u001b[36m   0.12\u001b[0m │ \u001b[36m  0\u001b[0m │ \u001b[36m      0\u001b[0m │ \u001b[36m      0\u001b[0m │ \u001b[36m       1\u001b[0m │ \u001b[32m  █   \u001b[0m │  │\n",
       "│ │ \u001b[38;5;141mhas_superstructure_o    \u001b[0m │ \u001b[36m  0\u001b[0m │ \u001b[36m    0\u001b[0m │ \u001b[36m    0.015\u001b[0m │ \u001b[36m   0.12\u001b[0m │ \u001b[36m  0\u001b[0m │ \u001b[36m      0\u001b[0m │ \u001b[36m      0\u001b[0m │ \u001b[36m       1\u001b[0m │ \u001b[32m  █   \u001b[0m │  │\n",
       "│ │ \u001b[38;5;141mcount_families          \u001b[0m │ \u001b[36m  0\u001b[0m │ \u001b[36m    0\u001b[0m │ \u001b[36m     0.98\u001b[0m │ \u001b[36m   0.42\u001b[0m │ \u001b[36m  0\u001b[0m │ \u001b[36m      1\u001b[0m │ \u001b[36m      1\u001b[0m │ \u001b[36m       9\u001b[0m │ \u001b[32m  █   \u001b[0m │  │\n",
       "│ │ \u001b[38;5;141mhas_secondary_use       \u001b[0m │ \u001b[36m  0\u001b[0m │ \u001b[36m    0\u001b[0m │ \u001b[36m     0.11\u001b[0m │ \u001b[36m   0.32\u001b[0m │ \u001b[36m  0\u001b[0m │ \u001b[36m      0\u001b[0m │ \u001b[36m      0\u001b[0m │ \u001b[36m       1\u001b[0m │ \u001b[32m█    ▁\u001b[0m │  │\n",
       "│ │ \u001b[38;5;141mhas_secondary_use_ag    \u001b[0m │ \u001b[36m  0\u001b[0m │ \u001b[36m    0\u001b[0m │ \u001b[36m    0.064\u001b[0m │ \u001b[36m   0.25\u001b[0m │ \u001b[36m  0\u001b[0m │ \u001b[36m      0\u001b[0m │ \u001b[36m      0\u001b[0m │ \u001b[36m       1\u001b[0m │ \u001b[32m█    ▁\u001b[0m │  │\n",
       "│ │ \u001b[38;5;141mhas_secondary_use_ho    \u001b[0m │ \u001b[36m  0\u001b[0m │ \u001b[36m    0\u001b[0m │ \u001b[36m    0.034\u001b[0m │ \u001b[36m   0.18\u001b[0m │ \u001b[36m  0\u001b[0m │ \u001b[36m      0\u001b[0m │ \u001b[36m      0\u001b[0m │ \u001b[36m       1\u001b[0m │ \u001b[32m  █   \u001b[0m │  │\n",
       "│ │ \u001b[38;5;141mhas_secondary_use_re    \u001b[0m │ \u001b[36m  0\u001b[0m │ \u001b[36m    0\u001b[0m │ \u001b[36m   0.0081\u001b[0m │ \u001b[36m   0.09\u001b[0m │ \u001b[36m  0\u001b[0m │ \u001b[36m      0\u001b[0m │ \u001b[36m      0\u001b[0m │ \u001b[36m       1\u001b[0m │ \u001b[32m  █   \u001b[0m │  │\n",
       "│ │ \u001b[38;5;141mhas_secondary_use_in    \u001b[0m │ \u001b[36m  0\u001b[0m │ \u001b[36m    0\u001b[0m │ \u001b[36m  0.00094\u001b[0m │ \u001b[36m  0.031\u001b[0m │ \u001b[36m  0\u001b[0m │ \u001b[36m      0\u001b[0m │ \u001b[36m      0\u001b[0m │ \u001b[36m       1\u001b[0m │ \u001b[32m  █   \u001b[0m │  │\n",
       "│ │ \u001b[38;5;141mhas_secondary_use_sc    \u001b[0m │ \u001b[36m  0\u001b[0m │ \u001b[36m    0\u001b[0m │ \u001b[36m  0.00036\u001b[0m │ \u001b[36m  0.019\u001b[0m │ \u001b[36m  0\u001b[0m │ \u001b[36m      0\u001b[0m │ \u001b[36m      0\u001b[0m │ \u001b[36m       1\u001b[0m │ \u001b[32m  █   \u001b[0m │  │\n",
       "│ │ \u001b[38;5;141mhas_secondary_use_in    \u001b[0m │ \u001b[36m  0\u001b[0m │ \u001b[36m    0\u001b[0m │ \u001b[36m   0.0011\u001b[0m │ \u001b[36m  0.033\u001b[0m │ \u001b[36m  0\u001b[0m │ \u001b[36m      0\u001b[0m │ \u001b[36m      0\u001b[0m │ \u001b[36m       1\u001b[0m │ \u001b[32m  █   \u001b[0m │  │\n",
       "│ │ \u001b[38;5;141mhas_secondary_use_he    \u001b[0m │ \u001b[36m  0\u001b[0m │ \u001b[36m    0\u001b[0m │ \u001b[36m  0.00019\u001b[0m │ \u001b[36m  0.014\u001b[0m │ \u001b[36m  0\u001b[0m │ \u001b[36m      0\u001b[0m │ \u001b[36m      0\u001b[0m │ \u001b[36m       1\u001b[0m │ \u001b[32m  █   \u001b[0m │  │\n",
       "│ │ \u001b[38;5;141mhas_secondary_use_go    \u001b[0m │ \u001b[36m  0\u001b[0m │ \u001b[36m    0\u001b[0m │ \u001b[36m  0.00015\u001b[0m │ \u001b[36m  0.012\u001b[0m │ \u001b[36m  0\u001b[0m │ \u001b[36m      0\u001b[0m │ \u001b[36m      0\u001b[0m │ \u001b[36m       1\u001b[0m │ \u001b[32m  █   \u001b[0m │  │\n",
       "│ │ \u001b[38;5;141mhas_secondary_use_us    \u001b[0m │ \u001b[36m  0\u001b[0m │ \u001b[36m    0\u001b[0m │ \u001b[36m  8.8e-05\u001b[0m │ \u001b[36m 0.0094\u001b[0m │ \u001b[36m  0\u001b[0m │ \u001b[36m      0\u001b[0m │ \u001b[36m      0\u001b[0m │ \u001b[36m       1\u001b[0m │ \u001b[32m  █   \u001b[0m │  │\n",
       "│ │ \u001b[38;5;141mhas_secondary_use_ot    \u001b[0m │ \u001b[36m  0\u001b[0m │ \u001b[36m    0\u001b[0m │ \u001b[36m   0.0051\u001b[0m │ \u001b[36m  0.071\u001b[0m │ \u001b[36m  0\u001b[0m │ \u001b[36m      0\u001b[0m │ \u001b[36m      0\u001b[0m │ \u001b[36m       1\u001b[0m │ \u001b[32m  █   \u001b[0m │  │\n",
       "│ │ \u001b[38;5;141mdamage_grade            \u001b[0m │ \u001b[36m  0\u001b[0m │ \u001b[36m    0\u001b[0m │ \u001b[36m      2.2\u001b[0m │ \u001b[36m   0.61\u001b[0m │ \u001b[36m  1\u001b[0m │ \u001b[36m      2\u001b[0m │ \u001b[36m      3\u001b[0m │ \u001b[36m       3\u001b[0m │ \u001b[32m▁  █ ▅\u001b[0m │  │\n",
       "│ └──────────────────────────┴─────┴───────┴───────────┴─────────┴─────┴─────────┴─────────┴──────────┴────────┘  │\n",
       "│ \u001b[3m                                                   category                                                   \u001b[0m  │\n",
       "│ ┏━━━━━━━━━━━━━━━━━━━━━━━━━━━━━━━━━━━━━━━━━━━━━━━┳━━━━━━━━━┳━━━━━━━━━━━━━┳━━━━━━━━━━━━━━━━━━━┳━━━━━━━━━━━━━━━━┓  │\n",
       "│ ┃\u001b[1m \u001b[0m\u001b[1mcolumn_name                                  \u001b[0m\u001b[1m \u001b[0m┃\u001b[1m \u001b[0m\u001b[1mNA     \u001b[0m\u001b[1m \u001b[0m┃\u001b[1m \u001b[0m\u001b[1mNA %       \u001b[0m\u001b[1m \u001b[0m┃\u001b[1m \u001b[0m\u001b[1mordered          \u001b[0m\u001b[1m \u001b[0m┃\u001b[1m \u001b[0m\u001b[1munique        \u001b[0m\u001b[1m \u001b[0m┃  │\n",
       "│ ┡━━━━━━━━━━━━━━━━━━━━━━━━━━━━━━━━━━━━━━━━━━━━━━━╇━━━━━━━━━╇━━━━━━━━━━━━━╇━━━━━━━━━━━━━━━━━━━╇━━━━━━━━━━━━━━━━┩  │\n",
       "│ │ \u001b[38;5;141mland_surface_conditi                         \u001b[0m │ \u001b[36m      0\u001b[0m │ \u001b[36m          0\u001b[0m │ \u001b[38;5;45mFalse            \u001b[0m │ \u001b[36m             3\u001b[0m │  │\n",
       "│ │ \u001b[38;5;141mfoundation_type                              \u001b[0m │ \u001b[36m      0\u001b[0m │ \u001b[36m          0\u001b[0m │ \u001b[38;5;45mFalse            \u001b[0m │ \u001b[36m             5\u001b[0m │  │\n",
       "│ │ \u001b[38;5;141mroof_type                                    \u001b[0m │ \u001b[36m      0\u001b[0m │ \u001b[36m          0\u001b[0m │ \u001b[38;5;45mFalse            \u001b[0m │ \u001b[36m             3\u001b[0m │  │\n",
       "│ │ \u001b[38;5;141mground_floor_type                            \u001b[0m │ \u001b[36m      0\u001b[0m │ \u001b[36m          0\u001b[0m │ \u001b[38;5;45mFalse            \u001b[0m │ \u001b[36m             5\u001b[0m │  │\n",
       "│ │ \u001b[38;5;141mother_floor_type                             \u001b[0m │ \u001b[36m      0\u001b[0m │ \u001b[36m          0\u001b[0m │ \u001b[38;5;45mFalse            \u001b[0m │ \u001b[36m             4\u001b[0m │  │\n",
       "│ │ \u001b[38;5;141mposition                                     \u001b[0m │ \u001b[36m      0\u001b[0m │ \u001b[36m          0\u001b[0m │ \u001b[38;5;45mFalse            \u001b[0m │ \u001b[36m             4\u001b[0m │  │\n",
       "│ │ \u001b[38;5;141mplan_configuration                           \u001b[0m │ \u001b[36m      0\u001b[0m │ \u001b[36m          0\u001b[0m │ \u001b[38;5;45mFalse            \u001b[0m │ \u001b[36m            10\u001b[0m │  │\n",
       "│ │ \u001b[38;5;141mlegal_ownership_stat                         \u001b[0m │ \u001b[36m      0\u001b[0m │ \u001b[36m          0\u001b[0m │ \u001b[38;5;45mFalse            \u001b[0m │ \u001b[36m             4\u001b[0m │  │\n",
       "│ └───────────────────────────────────────────────┴─────────┴─────────────┴───────────────────┴────────────────┘  │\n",
       "╰────────────────────────────────────────────────────── End ──────────────────────────────────────────────────────╯\n"
      ]
     },
     "metadata": {},
     "output_type": "display_data"
    }
   ],
   "source": [
    "# Summarize the data to see outliers and patterns\n",
    "skim(training_dataset)"
   ]
  },
  {
   "cell_type": "code",
   "execution_count": 50,
   "metadata": {},
   "outputs": [],
   "source": [
    "import seaborn as sns\n",
    "\n",
    "def categorical_summarized(dataframe, x=None, y=None, hue=None, palette='Set1', verbose=True):\n",
    "    '''\n",
    "    Helper function that gives a quick summary of a given column of categorical data\n",
    "    Arguments\n",
    "    =========\n",
    "    dataframe: pandas dataframe\n",
    "    x: str. horizontal axis to plot the labels of categorical data, y would be the count\n",
    "    y: str. vertical axis to plot the labels of categorical data, x would be the count\n",
    "    hue: str. if you want to compare it another variable (usually the target variable)\n",
    "    palette: array-like. Colour of the plot\n",
    "    Returns\n",
    "    =======\n",
    "    Quick Stats of the data and also the count plot\n",
    "    '''\n",
    "    if x == None:\n",
    "        column_interested = y\n",
    "    else:\n",
    "        column_interested = x\n",
    "    series = dataframe[column_interested]\n",
    "    print(series.describe())\n",
    "    print('mode: ', series.mode())\n",
    "    if verbose:\n",
    "        print('='*80)\n",
    "        print(series.value_counts())\n",
    "\n",
    "    sns.countplot(x=x, y=y, hue=hue, data=dataframe, palette=palette)\n",
    "    plt.show()"
   ]
  },
  {
   "cell_type": "code",
   "execution_count": 60,
   "metadata": {},
   "outputs": [
    {
     "data": {
      "text/html": [
       "<pre style=\"white-space:pre;overflow-x:auto;line-height:normal;font-family:Menlo,'DejaVu Sans Mono',consolas,'Courier New',monospace\">count     <span style=\"color: #008080; text-decoration-color: #008080; font-weight: bold\">260601</span>\n",
       "unique         <span style=\"color: #008080; text-decoration-color: #008080; font-weight: bold\">3</span>\n",
       "top            n\n",
       "freq      <span style=\"color: #008080; text-decoration-color: #008080; font-weight: bold\">182842</span>\n",
       "Name: roof_type, dtype: object\n",
       "</pre>\n"
      ],
      "text/plain": [
       "count     \u001b[1;36m260601\u001b[0m\n",
       "unique         \u001b[1;36m3\u001b[0m\n",
       "top            n\n",
       "freq      \u001b[1;36m182842\u001b[0m\n",
       "Name: roof_type, dtype: object\n"
      ]
     },
     "metadata": {},
     "output_type": "display_data"
    },
    {
     "data": {
      "text/html": [
       "<pre style=\"white-space:pre;overflow-x:auto;line-height:normal;font-family:Menlo,'DejaVu Sans Mono',consolas,'Courier New',monospace\">mode:  <span style=\"color: #008080; text-decoration-color: #008080; font-weight: bold\">0</span>    n\n",
       "Name: roof_type, dtype: category\n",
       "Categories <span style=\"font-weight: bold\">(</span><span style=\"color: #008080; text-decoration-color: #008080; font-weight: bold\">3</span>, object<span style=\"font-weight: bold\">)</span>: <span style=\"font-weight: bold\">[</span><span style=\"color: #008000; text-decoration-color: #008000\">'n'</span>, <span style=\"color: #008000; text-decoration-color: #008000\">'q'</span>, <span style=\"color: #008000; text-decoration-color: #008000\">'x'</span><span style=\"font-weight: bold\">]</span>\n",
       "</pre>\n"
      ],
      "text/plain": [
       "mode:  \u001b[1;36m0\u001b[0m    n\n",
       "Name: roof_type, dtype: category\n",
       "Categories \u001b[1m(\u001b[0m\u001b[1;36m3\u001b[0m, object\u001b[1m)\u001b[0m: \u001b[1m[\u001b[0m\u001b[32m'n'\u001b[0m, \u001b[32m'q'\u001b[0m, \u001b[32m'x'\u001b[0m\u001b[1m]\u001b[0m\n"
      ]
     },
     "metadata": {},
     "output_type": "display_data"
    },
    {
     "data": {
      "text/html": [
       "<pre style=\"white-space:pre;overflow-x:auto;line-height:normal;font-family:Menlo,'DejaVu Sans Mono',consolas,'Courier New',monospace\">================================================================================\n",
       "</pre>\n"
      ],
      "text/plain": [
       "================================================================================\n"
      ]
     },
     "metadata": {},
     "output_type": "display_data"
    },
    {
     "data": {
      "text/html": [
       "<pre style=\"white-space:pre;overflow-x:auto;line-height:normal;font-family:Menlo,'DejaVu Sans Mono',consolas,'Courier New',monospace\">n    <span style=\"color: #008080; text-decoration-color: #008080; font-weight: bold\">182842</span>\n",
       "q     <span style=\"color: #008080; text-decoration-color: #008080; font-weight: bold\">61576</span>\n",
       "x     <span style=\"color: #008080; text-decoration-color: #008080; font-weight: bold\">16183</span>\n",
       "Name: roof_type, dtype: int64\n",
       "</pre>\n"
      ],
      "text/plain": [
       "n    \u001b[1;36m182842\u001b[0m\n",
       "q     \u001b[1;36m61576\u001b[0m\n",
       "x     \u001b[1;36m16183\u001b[0m\n",
       "Name: roof_type, dtype: int64\n"
      ]
     },
     "metadata": {},
     "output_type": "display_data"
    },
    {
     "data": {
      "image/png": "[encoded data removed]",
      "text/plain": [
       "<Figure size 432x288 with 1 Axes>"
      ]
     },
     "metadata": {
      "needs_background": "light"
     },
     "output_type": "display_data"
    }
   ],
   "source": [
    "# Bivariate analysis with roof_type - Target variable: Damage_grade\n",
    "categorical_summarized(training_dataset, y = 'roof_type', hue='damage_grade')"
   ]
  },
  {
   "cell_type": "code",
   "execution_count": 58,
   "metadata": {},
   "outputs": [
    {
     "data": {
      "text/html": [
       "<pre style=\"white-space:pre;overflow-x:auto;line-height:normal;font-family:Menlo,'DejaVu Sans Mono',consolas,'Courier New',monospace\">count    <span style=\"color: #008080; text-decoration-color: #008080; font-weight: bold\">260601.000000</span>\n",
       "mean          <span style=\"color: #008080; text-decoration-color: #008080; font-weight: bold\">2.129723</span>\n",
       "std           <span style=\"color: #008080; text-decoration-color: #008080; font-weight: bold\">0.727665</span>\n",
       "min           <span style=\"color: #008080; text-decoration-color: #008080; font-weight: bold\">1.000000</span>\n",
       "<span style=\"color: #008080; text-decoration-color: #008080; font-weight: bold\">25</span>%           <span style=\"color: #008080; text-decoration-color: #008080; font-weight: bold\">2.000000</span>\n",
       "<span style=\"color: #008080; text-decoration-color: #008080; font-weight: bold\">50</span>%           <span style=\"color: #008080; text-decoration-color: #008080; font-weight: bold\">2.000000</span>\n",
       "<span style=\"color: #008080; text-decoration-color: #008080; font-weight: bold\">75</span>%           <span style=\"color: #008080; text-decoration-color: #008080; font-weight: bold\">2.000000</span>\n",
       "max           <span style=\"color: #008080; text-decoration-color: #008080; font-weight: bold\">9.000000</span>\n",
       "Name: count_floors_pre_eq, dtype: float64\n",
       "</pre>\n"
      ],
      "text/plain": [
       "count    \u001b[1;36m260601.000000\u001b[0m\n",
       "mean          \u001b[1;36m2.129723\u001b[0m\n",
       "std           \u001b[1;36m0.727665\u001b[0m\n",
       "min           \u001b[1;36m1.000000\u001b[0m\n",
       "\u001b[1;36m25\u001b[0m%           \u001b[1;36m2.000000\u001b[0m\n",
       "\u001b[1;36m50\u001b[0m%           \u001b[1;36m2.000000\u001b[0m\n",
       "\u001b[1;36m75\u001b[0m%           \u001b[1;36m2.000000\u001b[0m\n",
       "max           \u001b[1;36m9.000000\u001b[0m\n",
       "Name: count_floors_pre_eq, dtype: float64\n"
      ]
     },
     "metadata": {},
     "output_type": "display_data"
    },
    {
     "data": {
      "text/html": [
       "<pre style=\"white-space:pre;overflow-x:auto;line-height:normal;font-family:Menlo,'DejaVu Sans Mono',consolas,'Courier New',monospace\">mode:  <span style=\"color: #008080; text-decoration-color: #008080; font-weight: bold\">0</span>    <span style=\"color: #008080; text-decoration-color: #008080; font-weight: bold\">2</span>\n",
       "Name: count_floors_pre_eq, dtype: int64\n",
       "</pre>\n"
      ],
      "text/plain": [
       "mode:  \u001b[1;36m0\u001b[0m    \u001b[1;36m2\u001b[0m\n",
       "Name: count_floors_pre_eq, dtype: int64\n"
      ]
     },
     "metadata": {},
     "output_type": "display_data"
    },
    {
     "data": {
      "text/html": [
       "<pre style=\"white-space:pre;overflow-x:auto;line-height:normal;font-family:Menlo,'DejaVu Sans Mono',consolas,'Courier New',monospace\">================================================================================\n",
       "</pre>\n"
      ],
      "text/plain": [
       "================================================================================\n"
      ]
     },
     "metadata": {},
     "output_type": "display_data"
    },
    {
     "data": {
      "text/html": [
       "<pre style=\"white-space:pre;overflow-x:auto;line-height:normal;font-family:Menlo,'DejaVu Sans Mono',consolas,'Courier New',monospace\"><span style=\"color: #008080; text-decoration-color: #008080; font-weight: bold\">2</span>    <span style=\"color: #008080; text-decoration-color: #008080; font-weight: bold\">156623</span>\n",
       "<span style=\"color: #008080; text-decoration-color: #008080; font-weight: bold\">3</span>     <span style=\"color: #008080; text-decoration-color: #008080; font-weight: bold\">55617</span>\n",
       "<span style=\"color: #008080; text-decoration-color: #008080; font-weight: bold\">1</span>     <span style=\"color: #008080; text-decoration-color: #008080; font-weight: bold\">40441</span>\n",
       "<span style=\"color: #008080; text-decoration-color: #008080; font-weight: bold\">4</span>      <span style=\"color: #008080; text-decoration-color: #008080; font-weight: bold\">5424</span>\n",
       "<span style=\"color: #008080; text-decoration-color: #008080; font-weight: bold\">5</span>      <span style=\"color: #008080; text-decoration-color: #008080; font-weight: bold\">2246</span>\n",
       "<span style=\"color: #008080; text-decoration-color: #008080; font-weight: bold\">6</span>       <span style=\"color: #008080; text-decoration-color: #008080; font-weight: bold\">209</span>\n",
       "<span style=\"color: #008080; text-decoration-color: #008080; font-weight: bold\">7</span>        <span style=\"color: #008080; text-decoration-color: #008080; font-weight: bold\">39</span>\n",
       "<span style=\"color: #008080; text-decoration-color: #008080; font-weight: bold\">8</span>         <span style=\"color: #008080; text-decoration-color: #008080; font-weight: bold\">1</span>\n",
       "<span style=\"color: #008080; text-decoration-color: #008080; font-weight: bold\">9</span>         <span style=\"color: #008080; text-decoration-color: #008080; font-weight: bold\">1</span>\n",
       "Name: count_floors_pre_eq, dtype: int64\n",
       "</pre>\n"
      ],
      "text/plain": [
       "\u001b[1;36m2\u001b[0m    \u001b[1;36m156623\u001b[0m\n",
       "\u001b[1;36m3\u001b[0m     \u001b[1;36m55617\u001b[0m\n",
       "\u001b[1;36m1\u001b[0m     \u001b[1;36m40441\u001b[0m\n",
       "\u001b[1;36m4\u001b[0m      \u001b[1;36m5424\u001b[0m\n",
       "\u001b[1;36m5\u001b[0m      \u001b[1;36m2246\u001b[0m\n",
       "\u001b[1;36m6\u001b[0m       \u001b[1;36m209\u001b[0m\n",
       "\u001b[1;36m7\u001b[0m        \u001b[1;36m39\u001b[0m\n",
       "\u001b[1;36m8\u001b[0m         \u001b[1;36m1\u001b[0m\n",
       "\u001b[1;36m9\u001b[0m         \u001b[1;36m1\u001b[0m\n",
       "Name: count_floors_pre_eq, dtype: int64\n"
      ]
     },
     "metadata": {},
     "output_type": "display_data"
    },
    {
     "data": {
      "image/png": "[encoded data removed]",
      "text/plain": [
       "<Figure size 432x288 with 1 Axes>"
      ]
     },
     "metadata": {
      "needs_background": "light"
     },
     "output_type": "display_data"
    }
   ],
   "source": [
    "# Bivariate analysis with number of floors - Target variable: Damage_grade\n",
    "categorical_summarized(training_dataset, y = 'count_floors_pre_eq', hue='damage_grade')"
   ]
  },
  {
   "cell_type": "code",
   "execution_count": 59,
   "metadata": {},
   "outputs": [
    {
     "data": {
      "text/html": [
       "<pre style=\"white-space:pre;overflow-x:auto;line-height:normal;font-family:Menlo,'DejaVu Sans Mono',consolas,'Courier New',monospace\">count     <span style=\"color: #008080; text-decoration-color: #008080; font-weight: bold\">260601</span>\n",
       "unique         <span style=\"color: #008080; text-decoration-color: #008080; font-weight: bold\">5</span>\n",
       "top            r\n",
       "freq      <span style=\"color: #008080; text-decoration-color: #008080; font-weight: bold\">219196</span>\n",
       "Name: foundation_type, dtype: object\n",
       "</pre>\n"
      ],
      "text/plain": [
       "count     \u001b[1;36m260601\u001b[0m\n",
       "unique         \u001b[1;36m5\u001b[0m\n",
       "top            r\n",
       "freq      \u001b[1;36m219196\u001b[0m\n",
       "Name: foundation_type, dtype: object\n"
      ]
     },
     "metadata": {},
     "output_type": "display_data"
    },
    {
     "data": {
      "text/html": [
       "<pre style=\"white-space:pre;overflow-x:auto;line-height:normal;font-family:Menlo,'DejaVu Sans Mono',consolas,'Courier New',monospace\">mode:  <span style=\"color: #008080; text-decoration-color: #008080; font-weight: bold\">0</span>    r\n",
       "Name: foundation_type, dtype: category\n",
       "Categories <span style=\"font-weight: bold\">(</span><span style=\"color: #008080; text-decoration-color: #008080; font-weight: bold\">5</span>, object<span style=\"font-weight: bold\">)</span>: <span style=\"font-weight: bold\">[</span><span style=\"color: #008000; text-decoration-color: #008000\">'h'</span>, <span style=\"color: #008000; text-decoration-color: #008000\">'i'</span>, <span style=\"color: #008000; text-decoration-color: #008000\">'r'</span>, <span style=\"color: #008000; text-decoration-color: #008000\">'u'</span>, <span style=\"color: #008000; text-decoration-color: #008000\">'w'</span><span style=\"font-weight: bold\">]</span>\n",
       "</pre>\n"
      ],
      "text/plain": [
       "mode:  \u001b[1;36m0\u001b[0m    r\n",
       "Name: foundation_type, dtype: category\n",
       "Categories \u001b[1m(\u001b[0m\u001b[1;36m5\u001b[0m, object\u001b[1m)\u001b[0m: \u001b[1m[\u001b[0m\u001b[32m'h'\u001b[0m, \u001b[32m'i'\u001b[0m, \u001b[32m'r'\u001b[0m, \u001b[32m'u'\u001b[0m, \u001b[32m'w'\u001b[0m\u001b[1m]\u001b[0m\n"
      ]
     },
     "metadata": {},
     "output_type": "display_data"
    },
    {
     "data": {
      "text/html": [
       "<pre style=\"white-space:pre;overflow-x:auto;line-height:normal;font-family:Menlo,'DejaVu Sans Mono',consolas,'Courier New',monospace\">================================================================================\n",
       "</pre>\n"
      ],
      "text/plain": [
       "================================================================================\n"
      ]
     },
     "metadata": {},
     "output_type": "display_data"
    },
    {
     "data": {
      "text/html": [
       "<pre style=\"white-space:pre;overflow-x:auto;line-height:normal;font-family:Menlo,'DejaVu Sans Mono',consolas,'Courier New',monospace\">r    <span style=\"color: #008080; text-decoration-color: #008080; font-weight: bold\">219196</span>\n",
       "w     <span style=\"color: #008080; text-decoration-color: #008080; font-weight: bold\">15118</span>\n",
       "u     <span style=\"color: #008080; text-decoration-color: #008080; font-weight: bold\">14260</span>\n",
       "i     <span style=\"color: #008080; text-decoration-color: #008080; font-weight: bold\">10579</span>\n",
       "h      <span style=\"color: #008080; text-decoration-color: #008080; font-weight: bold\">1448</span>\n",
       "Name: foundation_type, dtype: int64\n",
       "</pre>\n"
      ],
      "text/plain": [
       "r    \u001b[1;36m219196\u001b[0m\n",
       "w     \u001b[1;36m15118\u001b[0m\n",
       "u     \u001b[1;36m14260\u001b[0m\n",
       "i     \u001b[1;36m10579\u001b[0m\n",
       "h      \u001b[1;36m1448\u001b[0m\n",
       "Name: foundation_type, dtype: int64\n"
      ]
     },
     "metadata": {},
     "output_type": "display_data"
    },
    {
     "data": {
      "image/png": "[encoded data removed]",
      "text/plain": [
       "<Figure size 432x288 with 1 Axes>"
      ]
     },
     "metadata": {
      "needs_background": "light"
     },
     "output_type": "display_data"
    }
   ],
   "source": [
    "#Bivariate analysis with foundation type on target variable - damage\n",
    "categorical_summarized(training_dataset, y = 'foundation_type', hue='damage_grade')"
   ]
  },
  {
   "cell_type": "code",
   "execution_count": 61,
   "metadata": {},
   "outputs": [
    {
     "data": {
      "text/html": [
       "<pre style=\"white-space:pre;overflow-x:auto;line-height:normal;font-family:Menlo,'DejaVu Sans Mono',consolas,'Courier New',monospace\">count     <span style=\"color: #008080; text-decoration-color: #008080; font-weight: bold\">260601</span>\n",
       "unique         <span style=\"color: #008080; text-decoration-color: #008080; font-weight: bold\">3</span>\n",
       "top            t\n",
       "freq      <span style=\"color: #008080; text-decoration-color: #008080; font-weight: bold\">216757</span>\n",
       "Name: land_surface_condition, dtype: object\n",
       "</pre>\n"
      ],
      "text/plain": [
       "count     \u001b[1;36m260601\u001b[0m\n",
       "unique         \u001b[1;36m3\u001b[0m\n",
       "top            t\n",
       "freq      \u001b[1;36m216757\u001b[0m\n",
       "Name: land_surface_condition, dtype: object\n"
      ]
     },
     "metadata": {},
     "output_type": "display_data"
    },
    {
     "data": {
      "text/html": [
       "<pre style=\"white-space:pre;overflow-x:auto;line-height:normal;font-family:Menlo,'DejaVu Sans Mono',consolas,'Courier New',monospace\">mode:  <span style=\"color: #008080; text-decoration-color: #008080; font-weight: bold\">0</span>    t\n",
       "Name: land_surface_condition, dtype: category\n",
       "Categories <span style=\"font-weight: bold\">(</span><span style=\"color: #008080; text-decoration-color: #008080; font-weight: bold\">3</span>, object<span style=\"font-weight: bold\">)</span>: <span style=\"font-weight: bold\">[</span><span style=\"color: #008000; text-decoration-color: #008000\">'n'</span>, <span style=\"color: #008000; text-decoration-color: #008000\">'o'</span>, <span style=\"color: #008000; text-decoration-color: #008000\">'t'</span><span style=\"font-weight: bold\">]</span>\n",
       "</pre>\n"
      ],
      "text/plain": [
       "mode:  \u001b[1;36m0\u001b[0m    t\n",
       "Name: land_surface_condition, dtype: category\n",
       "Categories \u001b[1m(\u001b[0m\u001b[1;36m3\u001b[0m, object\u001b[1m)\u001b[0m: \u001b[1m[\u001b[0m\u001b[32m'n'\u001b[0m, \u001b[32m'o'\u001b[0m, \u001b[32m't'\u001b[0m\u001b[1m]\u001b[0m\n"
      ]
     },
     "metadata": {},
     "output_type": "display_data"
    },
    {
     "data": {
      "text/html": [
       "<pre style=\"white-space:pre;overflow-x:auto;line-height:normal;font-family:Menlo,'DejaVu Sans Mono',consolas,'Courier New',monospace\">================================================================================\n",
       "</pre>\n"
      ],
      "text/plain": [
       "================================================================================\n"
      ]
     },
     "metadata": {},
     "output_type": "display_data"
    },
    {
     "data": {
      "text/html": [
       "<pre style=\"white-space:pre;overflow-x:auto;line-height:normal;font-family:Menlo,'DejaVu Sans Mono',consolas,'Courier New',monospace\">t    <span style=\"color: #008080; text-decoration-color: #008080; font-weight: bold\">216757</span>\n",
       "n     <span style=\"color: #008080; text-decoration-color: #008080; font-weight: bold\">35528</span>\n",
       "o      <span style=\"color: #008080; text-decoration-color: #008080; font-weight: bold\">8316</span>\n",
       "Name: land_surface_condition, dtype: int64\n",
       "</pre>\n"
      ],
      "text/plain": [
       "t    \u001b[1;36m216757\u001b[0m\n",
       "n     \u001b[1;36m35528\u001b[0m\n",
       "o      \u001b[1;36m8316\u001b[0m\n",
       "Name: land_surface_condition, dtype: int64\n"
      ]
     },
     "metadata": {},
     "output_type": "display_data"
    },
    {
     "data": {
      "image/png": "[encoded data removed]",
      "text/plain": [
       "<Figure size 432x288 with 1 Axes>"
      ]
     },
     "metadata": {
      "needs_background": "light"
     },
     "output_type": "display_data"
    }
   ],
   "source": [
    "categorical_summarized(training_dataset, y = 'land_surface_condition', hue='damage_grade')"
   ]
  },
  {
   "cell_type": "code",
   "execution_count": 62,
   "metadata": {},
   "outputs": [
    {
     "data": {
      "text/html": [
       "<pre style=\"white-space:pre;overflow-x:auto;line-height:normal;font-family:Menlo,'DejaVu Sans Mono',consolas,'Courier New',monospace\">count    <span style=\"color: #008080; text-decoration-color: #008080; font-weight: bold\">260601.000000</span>\n",
       "mean          <span style=\"color: #008080; text-decoration-color: #008080; font-weight: bold\">0.111880</span>\n",
       "std           <span style=\"color: #008080; text-decoration-color: #008080; font-weight: bold\">0.315219</span>\n",
       "min           <span style=\"color: #008080; text-decoration-color: #008080; font-weight: bold\">0.000000</span>\n",
       "<span style=\"color: #008080; text-decoration-color: #008080; font-weight: bold\">25</span>%           <span style=\"color: #008080; text-decoration-color: #008080; font-weight: bold\">0.000000</span>\n",
       "<span style=\"color: #008080; text-decoration-color: #008080; font-weight: bold\">50</span>%           <span style=\"color: #008080; text-decoration-color: #008080; font-weight: bold\">0.000000</span>\n",
       "<span style=\"color: #008080; text-decoration-color: #008080; font-weight: bold\">75</span>%           <span style=\"color: #008080; text-decoration-color: #008080; font-weight: bold\">0.000000</span>\n",
       "max           <span style=\"color: #008080; text-decoration-color: #008080; font-weight: bold\">1.000000</span>\n",
       "Name: has_secondary_use, dtype: float64\n",
       "</pre>\n"
      ],
      "text/plain": [
       "count    \u001b[1;36m260601.000000\u001b[0m\n",
       "mean          \u001b[1;36m0.111880\u001b[0m\n",
       "std           \u001b[1;36m0.315219\u001b[0m\n",
       "min           \u001b[1;36m0.000000\u001b[0m\n",
       "\u001b[1;36m25\u001b[0m%           \u001b[1;36m0.000000\u001b[0m\n",
       "\u001b[1;36m50\u001b[0m%           \u001b[1;36m0.000000\u001b[0m\n",
       "\u001b[1;36m75\u001b[0m%           \u001b[1;36m0.000000\u001b[0m\n",
       "max           \u001b[1;36m1.000000\u001b[0m\n",
       "Name: has_secondary_use, dtype: float64\n"
      ]
     },
     "metadata": {},
     "output_type": "display_data"
    },
    {
     "data": {
      "text/html": [
       "<pre style=\"white-space:pre;overflow-x:auto;line-height:normal;font-family:Menlo,'DejaVu Sans Mono',consolas,'Courier New',monospace\">mode:  <span style=\"color: #008080; text-decoration-color: #008080; font-weight: bold\">0</span>    <span style=\"color: #008080; text-decoration-color: #008080; font-weight: bold\">0</span>\n",
       "Name: has_secondary_use, dtype: int64\n",
       "</pre>\n"
      ],
      "text/plain": [
       "mode:  \u001b[1;36m0\u001b[0m    \u001b[1;36m0\u001b[0m\n",
       "Name: has_secondary_use, dtype: int64\n"
      ]
     },
     "metadata": {},
     "output_type": "display_data"
    },
    {
     "data": {
      "text/html": [
       "<pre style=\"white-space:pre;overflow-x:auto;line-height:normal;font-family:Menlo,'DejaVu Sans Mono',consolas,'Courier New',monospace\">================================================================================\n",
       "</pre>\n"
      ],
      "text/plain": [
       "================================================================================\n"
      ]
     },
     "metadata": {},
     "output_type": "display_data"
    },
    {
     "data": {
      "text/html": [
       "<pre style=\"white-space:pre;overflow-x:auto;line-height:normal;font-family:Menlo,'DejaVu Sans Mono',consolas,'Courier New',monospace\"><span style=\"color: #008080; text-decoration-color: #008080; font-weight: bold\">0</span>    <span style=\"color: #008080; text-decoration-color: #008080; font-weight: bold\">231445</span>\n",
       "<span style=\"color: #008080; text-decoration-color: #008080; font-weight: bold\">1</span>     <span style=\"color: #008080; text-decoration-color: #008080; font-weight: bold\">29156</span>\n",
       "Name: has_secondary_use, dtype: int64\n",
       "</pre>\n"
      ],
      "text/plain": [
       "\u001b[1;36m0\u001b[0m    \u001b[1;36m231445\u001b[0m\n",
       "\u001b[1;36m1\u001b[0m     \u001b[1;36m29156\u001b[0m\n",
       "Name: has_secondary_use, dtype: int64\n"
      ]
     },
     "metadata": {},
     "output_type": "display_data"
    },
    {
     "data": {
      "image/png": "[encoded data removed]",
      "text/plain": [
       "<Figure size 432x288 with 1 Axes>"
      ]
     },
     "metadata": {
      "needs_background": "light"
     },
     "output_type": "display_data"
    }
   ],
   "source": [
    "categorical_summarized(training_dataset, y = 'has_secondary_use', hue='damage_grade')"
   ]
  },
  {
   "cell_type": "code",
   "execution_count": 70,
   "metadata": {},
   "outputs": [
    {
     "data": {
      "image/png": "[encoded data removed]",
      "text/plain": [
       "<Figure size 1008x864 with 2 Axes>"
      ]
     },
     "metadata": {
      "needs_background": "light"
     },
     "output_type": "display_data"
    }
   ],
   "source": [
    "plt.figure(figsize=(14,12))\n",
    "plt.title('Pearson Correlation of Features', size = 15)\n",
    "colormap = sns.diverging_palette(10, 220, as_cmap = True)\n",
    "sns.heatmap(training_dataset.corr(),\n",
    "            cmap = colormap,\n",
    "            square = True,\n",
    "            annot = False,\n",
    "            linewidths=0.1,vmax=1.0, linecolor='white',\n",
    "            annot_kws={'fontsize':12 })\n",
    "plt.show()"
   ]
  }
 ],
 "metadata": {
  "kernelspec": {
   "display_name": "Python 3 (ipykernel)",
   "language": "python",
   "name": "python3"
  },
  "language_info": {
   "codemirror_mode": {
    "name": "ipython",
    "version": 3
   },
   "file_extension": ".py",
   "mimetype": "text/x-python",
   "name": "python",
   "nbconvert_exporter": "python",
   "pygments_lexer": "ipython3",
   "version": "3.9.12"
  }
 },
 "nbformat": 4,
 "nbformat_minor": 1
}
